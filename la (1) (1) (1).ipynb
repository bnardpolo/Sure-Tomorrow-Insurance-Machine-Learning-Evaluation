{
 "cells": [
  {
   "cell_type": "markdown",
   "metadata": {},
   "source": [
    "# Statement"
   ]
  },
  {
   "cell_type": "markdown",
   "metadata": {},
   "source": [
    "The Sure Tomorrow insurance company wants to solve several tasks with the help of Machine Learning and you are asked to evaluate that possibility.\n",
    "\n",
    "- Task 1: Find customers who are similar to a given customer. This will help the company's agents with marketing.\n",
    "- Task 2: Predict whether a new customer is likely to receive an insurance benefit. Can a prediction model do better than a dummy model?\n",
    "- Task 3: Predict the number of insurance benefits a new customer is likely to receive using a linear regression model.\n",
    "- Task 4: Protect clients' personal data without breaking the model from the previous task. It's necessary to develop a data transformation algorithm that would make it hard to recover personal information if the data fell into the wrong hands. This is called data masking, or data obfuscation. But the data should be protected in such a way that the quality of machine learning models doesn't suffer. You don't need to pick the best model, just prove that the algorithm works correctly."
   ]
  },
  {
   "cell_type": "markdown",
   "metadata": {},
   "source": [
    "# Data Preprocessing & Exploration\n",
    "\n",
    "## Initialization"
   ]
  },
  {
   "cell_type": "code",
   "execution_count": 9,
   "metadata": {},
   "outputs": [
    {
     "name": "stdout",
     "output_type": "stream",
     "text": [
      "\u001b[33mWARNING: Ignoring invalid distribution -oblib (/opt/conda/lib/python3.9/site-packages)\u001b[0m\n",
      "\u001b[33mWARNING: Ignoring invalid distribution -oblib (/opt/conda/lib/python3.9/site-packages)\u001b[0m\n",
      "\u001b[33mWARNING: Ignoring invalid distribution -oblib (/opt/conda/lib/python3.9/site-packages)\u001b[0m\n",
      "\u001b[33m    WARNING: Ignoring invalid distribution -oblib (/opt/conda/lib/python3.9/site-packages)\u001b[0m\n",
      "\u001b[31mERROR: Could not install packages due to an OSError: [Errno 13] Permission denied: 'INSTALLER'\n",
      "Consider using the `--user` option or check the permissions.\n",
      "\u001b[0m\n",
      "\u001b[33mWARNING: Ignoring invalid distribution -oblib (/opt/conda/lib/python3.9/site-packages)\u001b[0m\n",
      "\u001b[33mWARNING: Ignoring invalid distribution -oblib (/opt/conda/lib/python3.9/site-packages)\u001b[0m\n",
      "\u001b[33mWARNING: Ignoring invalid distribution -oblib (/opt/conda/lib/python3.9/site-packages)\u001b[0m\n"
     ]
    }
   ],
   "source": [
    "!pip install -U scikit-learn > /dev/null"
   ]
  },
  {
   "cell_type": "code",
   "execution_count": 10,
   "metadata": {},
   "outputs": [],
   "source": [
    "import numpy as np\n",
    "import pandas as pd\n",
    "\n",
    "import seaborn as sns\n",
    "import matplotlib.pyplot as plt\n",
    "\n",
    "import sklearn.linear_model\n",
    "import sklearn.metrics\n",
    "import sklearn.neighbors\n",
    "import sklearn.preprocessing\n",
    "\n",
    "from sklearn.model_selection import train_test_split\n",
    "from sklearn.neighbors import KNeighborsClassifier, NearestNeighbors\n",
    "import math\n",
    "\n",
    "from IPython.display import display\n",
    "import warnings\n",
    "warnings.filterwarnings('ignore')"
   ]
  },
  {
   "cell_type": "markdown",
   "metadata": {},
   "source": [
    "## Load Data"
   ]
  },
  {
   "cell_type": "markdown",
   "metadata": {},
   "source": [
    "Load data and conduct a basic check that it's free from obvious issues."
   ]
  },
  {
   "cell_type": "code",
   "execution_count": 11,
   "metadata": {},
   "outputs": [],
   "source": [
    "df = pd.read_csv('insurance_us.csv')"
   ]
  },
  {
   "cell_type": "markdown",
   "metadata": {},
   "source": [
    "We rename the colums to make the code look more consistent with its style."
   ]
  },
  {
   "cell_type": "code",
   "execution_count": 12,
   "metadata": {},
   "outputs": [],
   "source": [
    "df = df.rename(columns={'Gender': 'gender', 'Age': 'age', 'Salary': 'income', 'Family members': 'family_members', 'Insurance benefits': 'insurance_benefits'})"
   ]
  },
  {
   "cell_type": "code",
   "execution_count": 13,
   "metadata": {},
   "outputs": [
    {
     "data": {
      "text/html": [
       "<div>\n",
       "<style scoped>\n",
       "    .dataframe tbody tr th:only-of-type {\n",
       "        vertical-align: middle;\n",
       "    }\n",
       "\n",
       "    .dataframe tbody tr th {\n",
       "        vertical-align: top;\n",
       "    }\n",
       "\n",
       "    .dataframe thead th {\n",
       "        text-align: right;\n",
       "    }\n",
       "</style>\n",
       "<table border=\"1\" class=\"dataframe\">\n",
       "  <thead>\n",
       "    <tr style=\"text-align: right;\">\n",
       "      <th></th>\n",
       "      <th>gender</th>\n",
       "      <th>age</th>\n",
       "      <th>income</th>\n",
       "      <th>family_members</th>\n",
       "      <th>insurance_benefits</th>\n",
       "    </tr>\n",
       "  </thead>\n",
       "  <tbody>\n",
       "    <tr>\n",
       "      <th>1071</th>\n",
       "      <td>0</td>\n",
       "      <td>50.0</td>\n",
       "      <td>43100.0</td>\n",
       "      <td>2</td>\n",
       "      <td>2</td>\n",
       "    </tr>\n",
       "    <tr>\n",
       "      <th>3494</th>\n",
       "      <td>1</td>\n",
       "      <td>25.0</td>\n",
       "      <td>50500.0</td>\n",
       "      <td>0</td>\n",
       "      <td>0</td>\n",
       "    </tr>\n",
       "    <tr>\n",
       "      <th>3120</th>\n",
       "      <td>0</td>\n",
       "      <td>40.0</td>\n",
       "      <td>34100.0</td>\n",
       "      <td>1</td>\n",
       "      <td>0</td>\n",
       "    </tr>\n",
       "    <tr>\n",
       "      <th>3001</th>\n",
       "      <td>1</td>\n",
       "      <td>18.0</td>\n",
       "      <td>13300.0</td>\n",
       "      <td>1</td>\n",
       "      <td>0</td>\n",
       "    </tr>\n",
       "    <tr>\n",
       "      <th>3489</th>\n",
       "      <td>0</td>\n",
       "      <td>35.0</td>\n",
       "      <td>43600.0</td>\n",
       "      <td>1</td>\n",
       "      <td>0</td>\n",
       "    </tr>\n",
       "    <tr>\n",
       "      <th>2431</th>\n",
       "      <td>1</td>\n",
       "      <td>27.0</td>\n",
       "      <td>61000.0</td>\n",
       "      <td>0</td>\n",
       "      <td>0</td>\n",
       "    </tr>\n",
       "    <tr>\n",
       "      <th>2649</th>\n",
       "      <td>1</td>\n",
       "      <td>29.0</td>\n",
       "      <td>38800.0</td>\n",
       "      <td>5</td>\n",
       "      <td>0</td>\n",
       "    </tr>\n",
       "    <tr>\n",
       "      <th>164</th>\n",
       "      <td>1</td>\n",
       "      <td>22.0</td>\n",
       "      <td>43300.0</td>\n",
       "      <td>1</td>\n",
       "      <td>0</td>\n",
       "    </tr>\n",
       "    <tr>\n",
       "      <th>3323</th>\n",
       "      <td>0</td>\n",
       "      <td>28.0</td>\n",
       "      <td>36900.0</td>\n",
       "      <td>0</td>\n",
       "      <td>0</td>\n",
       "    </tr>\n",
       "    <tr>\n",
       "      <th>2338</th>\n",
       "      <td>1</td>\n",
       "      <td>27.0</td>\n",
       "      <td>45900.0</td>\n",
       "      <td>0</td>\n",
       "      <td>0</td>\n",
       "    </tr>\n",
       "  </tbody>\n",
       "</table>\n",
       "</div>"
      ],
      "text/plain": [
       "      gender   age   income  family_members  insurance_benefits\n",
       "1071       0  50.0  43100.0               2                   2\n",
       "3494       1  25.0  50500.0               0                   0\n",
       "3120       0  40.0  34100.0               1                   0\n",
       "3001       1  18.0  13300.0               1                   0\n",
       "3489       0  35.0  43600.0               1                   0\n",
       "2431       1  27.0  61000.0               0                   0\n",
       "2649       1  29.0  38800.0               5                   0\n",
       "164        1  22.0  43300.0               1                   0\n",
       "3323       0  28.0  36900.0               0                   0\n",
       "2338       1  27.0  45900.0               0                   0"
      ]
     },
     "execution_count": 13,
     "metadata": {},
     "output_type": "execute_result"
    }
   ],
   "source": [
    "df.sample(10)"
   ]
  },
  {
   "cell_type": "code",
   "execution_count": 14,
   "metadata": {},
   "outputs": [
    {
     "name": "stdout",
     "output_type": "stream",
     "text": [
      "<class 'pandas.core.frame.DataFrame'>\n",
      "RangeIndex: 5000 entries, 0 to 4999\n",
      "Data columns (total 5 columns):\n",
      " #   Column              Non-Null Count  Dtype  \n",
      "---  ------              --------------  -----  \n",
      " 0   gender              5000 non-null   int64  \n",
      " 1   age                 5000 non-null   float64\n",
      " 2   income              5000 non-null   float64\n",
      " 3   family_members      5000 non-null   int64  \n",
      " 4   insurance_benefits  5000 non-null   int64  \n",
      "dtypes: float64(2), int64(3)\n",
      "memory usage: 195.4 KB\n"
     ]
    }
   ],
   "source": [
    "df.info()"
   ]
  },
  {
   "cell_type": "code",
   "execution_count": 15,
   "metadata": {},
   "outputs": [],
   "source": [
    "def change_dtype(df, field, dtype=np.uint8):\n",
    "    \"\"\"\n",
    "    Fix the dtypes for features\n",
    "    \"\"\"\n",
    "    try:\n",
    "        df[field] = df[field].astype(dtype)\n",
    "    except:\n",
    "        print(f'Conversion for {field} failed...')"
   ]
  },
  {
   "cell_type": "code",
   "execution_count": 19,
   "metadata": {},
   "outputs": [],
   "source": [
    "# we may want to fix the age type (from float to int) though this is not critical\n",
    "# write your conversion here if you choose:\n",
    "cols = {\n",
    "        'gender': np.uint8, \n",
    "        'age': np.uint8, \n",
    "        'family_members': np.uint8, \n",
    "        'insurance_benefits': np.uint8,\n",
    "        'income': np.int32\n",
    "}\n",
    "for col in cols:\n",
    "    change_dtype(df, col, cols[col])"
   ]
  },
  {
   "cell_type": "code",
   "execution_count": 20,
   "metadata": {},
   "outputs": [
    {
     "name": "stdout",
     "output_type": "stream",
     "text": [
      "<class 'pandas.core.frame.DataFrame'>\n",
      "RangeIndex: 5000 entries, 0 to 4999\n",
      "Data columns (total 5 columns):\n",
      " #   Column              Non-Null Count  Dtype\n",
      "---  ------              --------------  -----\n",
      " 0   gender              5000 non-null   uint8\n",
      " 1   age                 5000 non-null   uint8\n",
      " 2   income              5000 non-null   int32\n",
      " 3   family_members      5000 non-null   uint8\n",
      " 4   insurance_benefits  5000 non-null   uint8\n",
      "dtypes: int32(1), uint8(4)\n",
      "memory usage: 39.2 KB\n"
     ]
    }
   ],
   "source": [
    "# check to see that the conversion was successful\n",
    "df.info()"
   ]
  },
  {
   "cell_type": "code",
   "execution_count": 21,
   "metadata": {},
   "outputs": [
    {
     "data": {
      "text/html": [
       "<div>\n",
       "<style scoped>\n",
       "    .dataframe tbody tr th:only-of-type {\n",
       "        vertical-align: middle;\n",
       "    }\n",
       "\n",
       "    .dataframe tbody tr th {\n",
       "        vertical-align: top;\n",
       "    }\n",
       "\n",
       "    .dataframe thead th {\n",
       "        text-align: right;\n",
       "    }\n",
       "</style>\n",
       "<table border=\"1\" class=\"dataframe\">\n",
       "  <thead>\n",
       "    <tr style=\"text-align: right;\">\n",
       "      <th></th>\n",
       "      <th>gender</th>\n",
       "      <th>age</th>\n",
       "      <th>income</th>\n",
       "      <th>family_members</th>\n",
       "      <th>insurance_benefits</th>\n",
       "    </tr>\n",
       "  </thead>\n",
       "  <tbody>\n",
       "    <tr>\n",
       "      <th>count</th>\n",
       "      <td>5000.000000</td>\n",
       "      <td>5000.000000</td>\n",
       "      <td>5000.000000</td>\n",
       "      <td>5000.000000</td>\n",
       "      <td>5000.000000</td>\n",
       "    </tr>\n",
       "    <tr>\n",
       "      <th>mean</th>\n",
       "      <td>0.499000</td>\n",
       "      <td>30.952800</td>\n",
       "      <td>39916.359400</td>\n",
       "      <td>1.194200</td>\n",
       "      <td>0.148000</td>\n",
       "    </tr>\n",
       "    <tr>\n",
       "      <th>std</th>\n",
       "      <td>0.500049</td>\n",
       "      <td>8.440807</td>\n",
       "      <td>9900.082063</td>\n",
       "      <td>1.091387</td>\n",
       "      <td>0.463183</td>\n",
       "    </tr>\n",
       "    <tr>\n",
       "      <th>min</th>\n",
       "      <td>0.000000</td>\n",
       "      <td>18.000000</td>\n",
       "      <td>5300.000000</td>\n",
       "      <td>0.000000</td>\n",
       "      <td>0.000000</td>\n",
       "    </tr>\n",
       "    <tr>\n",
       "      <th>25%</th>\n",
       "      <td>0.000000</td>\n",
       "      <td>24.000000</td>\n",
       "      <td>33300.000000</td>\n",
       "      <td>0.000000</td>\n",
       "      <td>0.000000</td>\n",
       "    </tr>\n",
       "    <tr>\n",
       "      <th>50%</th>\n",
       "      <td>0.000000</td>\n",
       "      <td>30.000000</td>\n",
       "      <td>40200.000000</td>\n",
       "      <td>1.000000</td>\n",
       "      <td>0.000000</td>\n",
       "    </tr>\n",
       "    <tr>\n",
       "      <th>75%</th>\n",
       "      <td>1.000000</td>\n",
       "      <td>37.000000</td>\n",
       "      <td>46600.000000</td>\n",
       "      <td>2.000000</td>\n",
       "      <td>0.000000</td>\n",
       "    </tr>\n",
       "    <tr>\n",
       "      <th>max</th>\n",
       "      <td>1.000000</td>\n",
       "      <td>65.000000</td>\n",
       "      <td>79000.000000</td>\n",
       "      <td>6.000000</td>\n",
       "      <td>5.000000</td>\n",
       "    </tr>\n",
       "  </tbody>\n",
       "</table>\n",
       "</div>"
      ],
      "text/plain": [
       "            gender          age        income  family_members  \\\n",
       "count  5000.000000  5000.000000   5000.000000     5000.000000   \n",
       "mean      0.499000    30.952800  39916.359400        1.194200   \n",
       "std       0.500049     8.440807   9900.082063        1.091387   \n",
       "min       0.000000    18.000000   5300.000000        0.000000   \n",
       "25%       0.000000    24.000000  33300.000000        0.000000   \n",
       "50%       0.000000    30.000000  40200.000000        1.000000   \n",
       "75%       1.000000    37.000000  46600.000000        2.000000   \n",
       "max       1.000000    65.000000  79000.000000        6.000000   \n",
       "\n",
       "       insurance_benefits  \n",
       "count         5000.000000  \n",
       "mean             0.148000  \n",
       "std              0.463183  \n",
       "min              0.000000  \n",
       "25%              0.000000  \n",
       "50%              0.000000  \n",
       "75%              0.000000  \n",
       "max              5.000000  "
      ]
     },
     "execution_count": 21,
     "metadata": {},
     "output_type": "execute_result"
    }
   ],
   "source": [
    "# now have a look at the data's descriptive statistics. \n",
    "# Does everything look okay?\n",
    "df.describe()"
   ]
  },
  {
   "cell_type": "code",
   "execution_count": 22,
   "metadata": {},
   "outputs": [
    {
     "data": {
      "text/plain": [
       "153"
      ]
     },
     "execution_count": 22,
     "metadata": {},
     "output_type": "execute_result"
    }
   ],
   "source": [
    "# check for duplicates\n",
    "df.duplicated().sum()"
   ]
  },
  {
   "cell_type": "code",
   "execution_count": 23,
   "metadata": {},
   "outputs": [
    {
     "data": {
      "text/plain": [
       "0.0306"
      ]
     },
     "execution_count": 23,
     "metadata": {},
     "output_type": "execute_result"
    }
   ],
   "source": [
    "# percentage of duplicates\n",
    "df.duplicated().sum() / df.shape[0]"
   ]
  },
  {
   "cell_type": "code",
   "execution_count": 24,
   "metadata": {},
   "outputs": [
    {
     "data": {
      "text/html": [
       "<div>\n",
       "<style scoped>\n",
       "    .dataframe tbody tr th:only-of-type {\n",
       "        vertical-align: middle;\n",
       "    }\n",
       "\n",
       "    .dataframe tbody tr th {\n",
       "        vertical-align: top;\n",
       "    }\n",
       "\n",
       "    .dataframe thead th {\n",
       "        text-align: right;\n",
       "    }\n",
       "</style>\n",
       "<table border=\"1\" class=\"dataframe\">\n",
       "  <thead>\n",
       "    <tr style=\"text-align: right;\">\n",
       "      <th></th>\n",
       "      <th>gender</th>\n",
       "      <th>age</th>\n",
       "      <th>income</th>\n",
       "      <th>family_members</th>\n",
       "      <th>insurance_benefits</th>\n",
       "    </tr>\n",
       "  </thead>\n",
       "  <tbody>\n",
       "    <tr>\n",
       "      <th>281</th>\n",
       "      <td>1</td>\n",
       "      <td>39</td>\n",
       "      <td>48100</td>\n",
       "      <td>1</td>\n",
       "      <td>0</td>\n",
       "    </tr>\n",
       "    <tr>\n",
       "      <th>488</th>\n",
       "      <td>1</td>\n",
       "      <td>24</td>\n",
       "      <td>32900</td>\n",
       "      <td>1</td>\n",
       "      <td>0</td>\n",
       "    </tr>\n",
       "    <tr>\n",
       "      <th>513</th>\n",
       "      <td>0</td>\n",
       "      <td>31</td>\n",
       "      <td>37400</td>\n",
       "      <td>2</td>\n",
       "      <td>0</td>\n",
       "    </tr>\n",
       "    <tr>\n",
       "      <th>718</th>\n",
       "      <td>1</td>\n",
       "      <td>22</td>\n",
       "      <td>32600</td>\n",
       "      <td>1</td>\n",
       "      <td>0</td>\n",
       "    </tr>\n",
       "    <tr>\n",
       "      <th>785</th>\n",
       "      <td>0</td>\n",
       "      <td>20</td>\n",
       "      <td>35800</td>\n",
       "      <td>0</td>\n",
       "      <td>0</td>\n",
       "    </tr>\n",
       "  </tbody>\n",
       "</table>\n",
       "</div>"
      ],
      "text/plain": [
       "     gender  age  income  family_members  insurance_benefits\n",
       "281       1   39   48100               1                   0\n",
       "488       1   24   32900               1                   0\n",
       "513       0   31   37400               2                   0\n",
       "718       1   22   32600               1                   0\n",
       "785       0   20   35800               0                   0"
      ]
     },
     "execution_count": 24,
     "metadata": {},
     "output_type": "execute_result"
    }
   ],
   "source": [
    "df[df.duplicated()].head()"
   ]
  },
  {
   "cell_type": "code",
   "execution_count": 25,
   "metadata": {},
   "outputs": [],
   "source": [
    "df = df.drop_duplicates()"
   ]
  },
  {
   "cell_type": "code",
   "execution_count": 26,
   "metadata": {
    "scrolled": true
   },
   "outputs": [
    {
     "data": {
      "text/plain": [
       "(4847, 5)"
      ]
     },
     "execution_count": 26,
     "metadata": {},
     "output_type": "execute_result"
    }
   ],
   "source": [
    "df.shape"
   ]
  },
  {
   "cell_type": "markdown",
   "metadata": {},
   "source": [
    "## EDA"
   ]
  },
  {
   "cell_type": "markdown",
   "metadata": {},
   "source": [
    "Let's quickly check whether there are certain groups of customers by looking at the pair plot."
   ]
  },
  {
   "cell_type": "code",
   "execution_count": 27,
   "metadata": {},
   "outputs": [
    {
     "data": {
      "image/png": "[encoded data removed]",
      "text/plain": [
       "<Figure size 864x864 with 30 Axes>"
      ]
     },
     "metadata": {
      "needs_background": "light"
     },
     "output_type": "display_data"
    }
   ],
   "source": [
    "g = sns.pairplot(df)\n",
    "g.fig.set_size_inches(12, 12)"
   ]
  },
  {
   "cell_type": "markdown",
   "metadata": {},
   "source": [
    "Ok, it is a bit difficult to spot obvious groups (clusters) as it is difficult to combine several variables simultaneously (to analyze multivariate distributions). That's where LA and ML can be quite handy."
   ]
  },
  {
   "cell_type": "code",
   "execution_count": 28,
   "metadata": {},
   "outputs": [
    {
     "data": {
      "text/html": [
       "<div>\n",
       "<style scoped>\n",
       "    .dataframe tbody tr th:only-of-type {\n",
       "        vertical-align: middle;\n",
       "    }\n",
       "\n",
       "    .dataframe tbody tr th {\n",
       "        vertical-align: top;\n",
       "    }\n",
       "\n",
       "    .dataframe thead th {\n",
       "        text-align: right;\n",
       "    }\n",
       "</style>\n",
       "<table border=\"1\" class=\"dataframe\">\n",
       "  <thead>\n",
       "    <tr style=\"text-align: right;\">\n",
       "      <th></th>\n",
       "      <th>gender</th>\n",
       "      <th>age</th>\n",
       "      <th>income</th>\n",
       "      <th>family_members</th>\n",
       "      <th>insurance_benefits</th>\n",
       "    </tr>\n",
       "  </thead>\n",
       "  <tbody>\n",
       "    <tr>\n",
       "      <th>gender</th>\n",
       "      <td>1.000000</td>\n",
       "      <td>0.001953</td>\n",
       "      <td>0.015456</td>\n",
       "      <td>-0.007315</td>\n",
       "      <td>0.011565</td>\n",
       "    </tr>\n",
       "    <tr>\n",
       "      <th>age</th>\n",
       "      <td>0.001953</td>\n",
       "      <td>1.000000</td>\n",
       "      <td>-0.017386</td>\n",
       "      <td>-0.009064</td>\n",
       "      <td>0.654964</td>\n",
       "    </tr>\n",
       "    <tr>\n",
       "      <th>income</th>\n",
       "      <td>0.015456</td>\n",
       "      <td>-0.017386</td>\n",
       "      <td>1.000000</td>\n",
       "      <td>-0.031687</td>\n",
       "      <td>-0.013123</td>\n",
       "    </tr>\n",
       "    <tr>\n",
       "      <th>family_members</th>\n",
       "      <td>-0.007315</td>\n",
       "      <td>-0.009064</td>\n",
       "      <td>-0.031687</td>\n",
       "      <td>1.000000</td>\n",
       "      <td>-0.039303</td>\n",
       "    </tr>\n",
       "    <tr>\n",
       "      <th>insurance_benefits</th>\n",
       "      <td>0.011565</td>\n",
       "      <td>0.654964</td>\n",
       "      <td>-0.013123</td>\n",
       "      <td>-0.039303</td>\n",
       "      <td>1.000000</td>\n",
       "    </tr>\n",
       "  </tbody>\n",
       "</table>\n",
       "</div>"
      ],
      "text/plain": [
       "                      gender       age    income  family_members  \\\n",
       "gender              1.000000  0.001953  0.015456       -0.007315   \n",
       "age                 0.001953  1.000000 -0.017386       -0.009064   \n",
       "income              0.015456 -0.017386  1.000000       -0.031687   \n",
       "family_members     -0.007315 -0.009064 -0.031687        1.000000   \n",
       "insurance_benefits  0.011565  0.654964 -0.013123       -0.039303   \n",
       "\n",
       "                    insurance_benefits  \n",
       "gender                        0.011565  \n",
       "age                           0.654964  \n",
       "income                       -0.013123  \n",
       "family_members               -0.039303  \n",
       "insurance_benefits            1.000000  "
      ]
     },
     "execution_count": 28,
     "metadata": {},
     "output_type": "execute_result"
    }
   ],
   "source": [
    "# correlation matrix\n",
    "df.corr()"
   ]
  },
  {
   "cell_type": "markdown",
   "metadata": {},
   "source": [
    "1) `age` has a moderately positive correlation with `insurance_benefits`."
   ]
  },
  {
   "cell_type": "markdown",
   "metadata": {},
   "source": [
    "**Conclusion**\n",
    "\n",
    "1) Each observation describes an insurance members details such as, `gender`, `age`, `income`, `family_benefits`, and `insurance_benfits`\n",
    "they receive.\n",
    "\n",
    "2) The `age` distribution is right-skewed, and `income` distribution appears to be normally distributed.\n",
    "\n",
    "3) There are no missing values.\n",
    "\n",
    "4) There are 153 (3%) duplicates.\n",
    "\n",
    "5) There is a moderately strong positive correlation between `age` of insured and `insurance_benfits`."
   ]
  },
  {
   "cell_type": "markdown",
   "metadata": {},
   "source": [
    "# Task 1. Similar Customers"
   ]
  },
  {
   "cell_type": "markdown",
   "metadata": {},
   "source": [
    "In the language of ML, it is necessary to develop a procedure that returns k nearest neighbors (objects) for a given object based on the distance between the objects.\n",
    "\n",
    "You may want to review the following lessons (chapter -> lesson)\n",
    "- Distance Between Vectors -> Euclidean Distance\n",
    "- Distance Between Vectors -> Manhattan Distance\n",
    "\n",
    "To solve the task, we can try different distance metrics."
   ]
  },
  {
   "cell_type": "markdown",
   "metadata": {},
   "source": [
    "Write a function that returns k nearest neighbors for an $n^{th}$ object based on a specified distance metric. The number of received insurance benefits should not be taken into account for this task. \n",
    "\n",
    "You can use a ready implementation of the kNN algorithm from scikit-learn (check [the link](https://scikit-learn.org/stable/modules/generated/sklearn.neighbors.NearestNeighbors.html#sklearn.neighbors.NearestNeighbors)) or use your own.\n",
    "\n",
    "Test it for four combination of two cases\n",
    "- Scaling\n",
    "  - the data is not scaled\n",
    "  - the data is scaled with the [MaxAbsScaler](https://scikit-learn.org/stable/modules/generated/sklearn.preprocessing.MaxAbsScaler.html) scaler\n",
    "- Distance Metrics\n",
    "  - Euclidean\n",
    "  - Manhattan\n",
    "\n",
    "Answer these questions:\n",
    "- Does the data being not scaled affect the kNN algorithm? If so, how does that appear?\n",
    "- How similar are the results using the Manhattan distance metric (regardless of the scaling)?"
   ]
  },
  {
   "cell_type": "code",
   "execution_count": 31,
   "metadata": {},
   "outputs": [],
   "source": [
    "feature_names = ['gender', 'age', 'income', 'family_members']"
   ]
  },
  {
   "cell_type": "code",
   "execution_count": 32,
   "metadata": {},
   "outputs": [],
   "source": [
    "def get_knn(df, n, k, metric):\n",
    "    \n",
    "    \"\"\"\n",
    "    Returns k nearest neighbors\n",
    "\n",
    "    :param df: pandas DataFrame used to find similar objects within\n",
    "    :param n: object no for which the nearest neighbours are looked for\n",
    "    :param k: the number of the nearest neighbours to return\n",
    "    :param metric: name of distance metric\n",
    "    \"\"\"\n",
    "    np.random.seed(42)\n",
    "    nbrs = NearestNeighbors(n_neighbors=k, metric=metric).fit(df)\n",
    "    nbrs_distances, nbrs_indices = nbrs.kneighbors([df.iloc[n]], k, return_distance=True)\n",
    "    df_res = pd.concat([\n",
    "        df.iloc[nbrs_indices[0]], \n",
    "        pd.DataFrame(nbrs_distances.T, index=nbrs_indices[0], columns=['distance'])\n",
    "        ], axis=1)\n",
    "    \n",
    "    return df_res"
   ]
  },
  {
   "cell_type": "markdown",
   "metadata": {},
   "source": [
    "Scaling the data."
   ]
  },
  {
   "cell_type": "code",
   "execution_count": 33,
   "metadata": {},
   "outputs": [],
   "source": [
    "feature_names = ['gender', 'age', 'income', 'family_members']\n",
    "\n",
    "transformer_mas = sklearn.preprocessing.MaxAbsScaler().fit(df[feature_names].to_numpy())\n",
    "\n",
    "df_scaled = df.copy()\n",
    "df_scaled.loc[:, feature_names] = transformer_mas.transform(df[feature_names].to_numpy())"
   ]
  },
  {
   "cell_type": "code",
   "execution_count": 41,
   "metadata": {},
   "outputs": [
    {
     "data": {
      "text/html": [
       "<div>\n",
       "<style scoped>\n",
       "    .dataframe tbody tr th:only-of-type {\n",
       "        vertical-align: middle;\n",
       "    }\n",
       "\n",
       "    .dataframe tbody tr th {\n",
       "        vertical-align: top;\n",
       "    }\n",
       "\n",
       "    .dataframe thead th {\n",
       "        text-align: right;\n",
       "    }\n",
       "</style>\n",
       "<table border=\"1\" class=\"dataframe\">\n",
       "  <thead>\n",
       "    <tr style=\"text-align: right;\">\n",
       "      <th></th>\n",
       "      <th>gender</th>\n",
       "      <th>age</th>\n",
       "      <th>income</th>\n",
       "      <th>family_members</th>\n",
       "      <th>insurance_benefits</th>\n",
       "    </tr>\n",
       "  </thead>\n",
       "  <tbody>\n",
       "    <tr>\n",
       "      <th>3878</th>\n",
       "      <td>0.0</td>\n",
       "      <td>0.292308</td>\n",
       "      <td>0.427848</td>\n",
       "      <td>0.000000</td>\n",
       "      <td>0</td>\n",
       "    </tr>\n",
       "    <tr>\n",
       "      <th>1684</th>\n",
       "      <td>0.0</td>\n",
       "      <td>0.446154</td>\n",
       "      <td>0.608861</td>\n",
       "      <td>0.500000</td>\n",
       "      <td>0</td>\n",
       "    </tr>\n",
       "    <tr>\n",
       "      <th>1044</th>\n",
       "      <td>0.0</td>\n",
       "      <td>0.446154</td>\n",
       "      <td>0.507595</td>\n",
       "      <td>0.000000</td>\n",
       "      <td>0</td>\n",
       "    </tr>\n",
       "    <tr>\n",
       "      <th>4807</th>\n",
       "      <td>0.0</td>\n",
       "      <td>0.661538</td>\n",
       "      <td>0.436709</td>\n",
       "      <td>0.666667</td>\n",
       "      <td>1</td>\n",
       "    </tr>\n",
       "    <tr>\n",
       "      <th>1538</th>\n",
       "      <td>0.0</td>\n",
       "      <td>0.476923</td>\n",
       "      <td>0.617722</td>\n",
       "      <td>0.166667</td>\n",
       "      <td>0</td>\n",
       "    </tr>\n",
       "  </tbody>\n",
       "</table>\n",
       "</div>"
      ],
      "text/plain": [
       "      gender       age    income  family_members  insurance_benefits\n",
       "3878     0.0  0.292308  0.427848        0.000000                   0\n",
       "1684     0.0  0.446154  0.608861        0.500000                   0\n",
       "1044     0.0  0.446154  0.507595        0.000000                   0\n",
       "4807     0.0  0.661538  0.436709        0.666667                   1\n",
       "1538     0.0  0.476923  0.617722        0.166667                   0"
      ]
     },
     "execution_count": 41,
     "metadata": {},
     "output_type": "execute_result"
    }
   ],
   "source": [
    "df_scaled.sample(5)"
   ]
  },
  {
   "cell_type": "markdown",
   "metadata": {},
   "source": [
    "Now, let's get similar records for a given one for every combination"
   ]
  },
  {
   "cell_type": "code",
   "execution_count": 42,
   "metadata": {},
   "outputs": [],
   "source": [
    "def check_knn_results(df, k, n, scaling='Scaled', metrics=[]):\n",
    "    \"\"\"\n",
    "    Helper fucnction\n",
    "    \"\"\"\n",
    "    for metric in metrics:\n",
    "        print('{} results for {}'.format(scaling, metric))\n",
    "        print('-'*50)\n",
    "        print(get_knn(df, n, k, metric))\n",
    "        print()"
   ]
  },
  {
   "cell_type": "code",
   "execution_count": 43,
   "metadata": {},
   "outputs": [],
   "source": [
    "# reset the indices as the results with .loc and .iloc\n",
    "# don't line up\n",
    "df = df.reset_index(drop=True)\n"
   ]
  },
  {
   "cell_type": "code",
   "execution_count": 44,
   "metadata": {},
   "outputs": [
    {
     "data": {
      "text/html": [
       "<div>\n",
       "<style scoped>\n",
       "    .dataframe tbody tr th:only-of-type {\n",
       "        vertical-align: middle;\n",
       "    }\n",
       "\n",
       "    .dataframe tbody tr th {\n",
       "        vertical-align: top;\n",
       "    }\n",
       "\n",
       "    .dataframe thead th {\n",
       "        text-align: right;\n",
       "    }\n",
       "</style>\n",
       "<table border=\"1\" class=\"dataframe\">\n",
       "  <thead>\n",
       "    <tr style=\"text-align: right;\">\n",
       "      <th></th>\n",
       "      <th>gender</th>\n",
       "      <th>age</th>\n",
       "      <th>income</th>\n",
       "      <th>family_members</th>\n",
       "      <th>insurance_benefits</th>\n",
       "    </tr>\n",
       "  </thead>\n",
       "  <tbody>\n",
       "    <tr>\n",
       "      <th>0</th>\n",
       "      <td>1</td>\n",
       "      <td>41</td>\n",
       "      <td>49600</td>\n",
       "      <td>1</td>\n",
       "      <td>0</td>\n",
       "    </tr>\n",
       "    <tr>\n",
       "      <th>1</th>\n",
       "      <td>0</td>\n",
       "      <td>46</td>\n",
       "      <td>38000</td>\n",
       "      <td>1</td>\n",
       "      <td>1</td>\n",
       "    </tr>\n",
       "    <tr>\n",
       "      <th>2</th>\n",
       "      <td>0</td>\n",
       "      <td>29</td>\n",
       "      <td>21000</td>\n",
       "      <td>0</td>\n",
       "      <td>0</td>\n",
       "    </tr>\n",
       "    <tr>\n",
       "      <th>3</th>\n",
       "      <td>0</td>\n",
       "      <td>21</td>\n",
       "      <td>41700</td>\n",
       "      <td>2</td>\n",
       "      <td>0</td>\n",
       "    </tr>\n",
       "    <tr>\n",
       "      <th>4</th>\n",
       "      <td>1</td>\n",
       "      <td>28</td>\n",
       "      <td>26100</td>\n",
       "      <td>0</td>\n",
       "      <td>0</td>\n",
       "    </tr>\n",
       "  </tbody>\n",
       "</table>\n",
       "</div>"
      ],
      "text/plain": [
       "   gender  age  income  family_members  insurance_benefits\n",
       "0       1   41   49600               1                   0\n",
       "1       0   46   38000               1                   1\n",
       "2       0   29   21000               0                   0\n",
       "3       0   21   41700               2                   0\n",
       "4       1   28   26100               0                   0"
      ]
     },
     "execution_count": 44,
     "metadata": {},
     "output_type": "execute_result"
    }
   ],
   "source": [
    "df.head()"
   ]
  },
  {
   "cell_type": "code",
   "execution_count": 45,
   "metadata": {},
   "outputs": [
    {
     "name": "stdout",
     "output_type": "stream",
     "text": [
      "Unscaled results for euclidean\n",
      "--------------------------------------------------\n",
      "      gender  age  income  family_members  distance\n",
      "100        0   19   37300               1  0.000000\n",
      "1803       0   20   37300               2  1.414214\n",
      "4147       1   19   37300               2  1.414214\n",
      "2569       1   19   37300               0  1.414214\n",
      "1078       0   22   37300               3  3.605551\n",
      "\n",
      "Unscaled results for manhattan\n",
      "--------------------------------------------------\n",
      "      gender  age  income  family_members  distance\n",
      "100        0   19   37300               1       0.0\n",
      "2569       1   19   37300               0       2.0\n",
      "1803       0   20   37300               2       2.0\n",
      "4147       1   19   37300               2       2.0\n",
      "1078       0   22   37300               3       5.0\n",
      "\n"
     ]
    }
   ],
   "source": [
    "# for insured member 100. Without scaling\n",
    "metrics = ['euclidean', 'manhattan']\n",
    "check_knn_results(df[feature_names], k=5, n=100, scaling='Unscaled', metrics=metrics)"
   ]
  },
  {
   "cell_type": "code",
   "execution_count": 46,
   "metadata": {},
   "outputs": [],
   "source": [
    "# reset the indices as the results with .loc and .iloc\n",
    "# don't line up\n",
    "df_scaled = df_scaled.reset_index(drop=True)"
   ]
  },
  {
   "cell_type": "code",
   "execution_count": 47,
   "metadata": {},
   "outputs": [
    {
     "name": "stdout",
     "output_type": "stream",
     "text": [
      "Scaled results for euclidean\n",
      "--------------------------------------------------\n",
      "      gender       age    income  family_members  distance\n",
      "100      0.0  0.292308  0.472152        0.166667  0.000000\n",
      "4765     0.0  0.292308  0.477215        0.166667  0.005063\n",
      "243      0.0  0.292308  0.467089        0.166667  0.005063\n",
      "1309     0.0  0.292308  0.456962        0.166667  0.015190\n",
      "806      0.0  0.307692  0.470886        0.166667  0.015437\n",
      "\n",
      "Scaled results for manhattan\n",
      "--------------------------------------------------\n",
      "      gender       age    income  family_members  distance\n",
      "100      0.0  0.292308  0.472152        0.166667  0.000000\n",
      "4765     0.0  0.292308  0.477215        0.166667  0.005063\n",
      "243      0.0  0.292308  0.467089        0.166667  0.005063\n",
      "1309     0.0  0.292308  0.456962        0.166667  0.015190\n",
      "806      0.0  0.307692  0.470886        0.166667  0.016650\n",
      "\n"
     ]
    }
   ],
   "source": [
    "# for insured member 100. With scaling\n",
    "metrics = ['euclidean', 'manhattan']\n",
    "check_knn_results(df_scaled[feature_names], k=5, n=100, metrics=metrics)"
   ]
  },
  {
   "cell_type": "markdown",
   "metadata": {},
   "source": [
    "Answers to the questions"
   ]
  },
  {
   "cell_type": "markdown",
   "metadata": {},
   "source": [
    "**Does the data being not scaled affect the kNN algorithm? If so, how does that appear?** \n",
    "\n",
    "Yes, without scaling, the distance metrics both, euclidean and manhattan are affected by `income`, which is on\n",
    "a different scale compared with the other features."
   ]
  },
  {
   "cell_type": "markdown",
   "metadata": {},
   "source": [
    "**How similar are the results using the Manhattan distance metric (regardless of the scaling)?** \n",
    "\n",
    "There are noticeable differences between the 2 metrics regardless of scaling. Euclidean distance penalizes large\n",
    "values more than Manhattan does. This is evident in the 5th neighbor in both results."
   ]
  },
  {
   "cell_type": "markdown",
   "metadata": {},
   "source": [
    "# Task 2. Is Customer Likely to Receive Insurance Benefit?"
   ]
  },
  {
   "cell_type": "markdown",
   "metadata": {},
   "source": [
    "In terms of machine learning we can look at this like a binary classification task."
   ]
  },
  {
   "cell_type": "markdown",
   "metadata": {},
   "source": [
    "With `insurance_benefits` being more than zero as the target, evaluate whether the kNN classification approach can do better than a dummy model.\n",
    "\n",
    "Instructions:\n",
    "- Build a KNN-based classifier and measure its quality with the F1 metric for k=1..10 for both the original data and the scaled one. That'd be interesting to see how k may influece the evaluation metric, and whether scaling the data makes any difference. You can use a ready implemention of the kNN classification algorithm from scikit-learn (check [the link](https://scikit-learn.org/stable/modules/generated/sklearn.neighbors.KNeighborsClassifier.html)) or use your own.\n",
    "- Build the dummy model which is just random for this case. It should return \"1\" with some probability. Let's test the model with four probability values: 0, the probability of paying any insurance benefit, 0.5, 1.\n",
    "\n",
    "The probability of paying any insurance benefit can be defined as\n",
    "\n",
    "$$\n",
    "P\\{\\text{insurance benefit received}\\}=\\frac{\\text{number of clients received any insurance benefit}}{\\text{total number of clients}}.\n",
    "$$\n",
    "\n",
    "Split the whole data in the 70:30 proportion for the training/testing parts."
   ]
  },
  {
   "cell_type": "code",
   "execution_count": 48,
   "metadata": {},
   "outputs": [],
   "source": [
    "# calculate the target\n",
    "\n",
    "\n",
    "df['insurance_benefits_received'] = (df['insurance_benefits'] > 0.5).astype(np.uint8)"
   ]
  },
  {
   "cell_type": "code",
   "execution_count": 49,
   "metadata": {},
   "outputs": [
    {
     "data": {
      "text/plain": [
       "0    4284\n",
       "1     563\n",
       "Name: insurance_benefits_received, dtype: int64"
      ]
     },
     "execution_count": 49,
     "metadata": {},
     "output_type": "execute_result"
    }
   ],
   "source": [
    "# check for the class imbalance with value_counts()\n",
    "\n",
    "df['insurance_benefits_received'].value_counts()"
   ]
  },
  {
   "cell_type": "code",
   "execution_count": 50,
   "metadata": {},
   "outputs": [],
   "source": [
    "def eval_classifier(y_true, y_pred):\n",
    "    \n",
    "    f1_score = sklearn.metrics.f1_score(y_true, y_pred)\n",
    "    print(f'F1: {f1_score:.2f}')\n",
    "    \n",
    "    cm = sklearn.metrics.confusion_matrix(y_true, y_pred, normalize='all')\n",
    "    print('Confusion Matrix')\n",
    "    print(cm)"
   ]
  },
  {
   "cell_type": "code",
   "execution_count": 51,
   "metadata": {},
   "outputs": [],
   "source": [
    "# generating output of a random model\n",
    "\n",
    "def rnd_model_predict(P, size, seed=42):\n",
    "\n",
    "    rng = np.random.default_rng(seed=seed)\n",
    "    return rng.binomial(n=1, p=P, size=size)"
   ]
  },
  {
   "cell_type": "code",
   "execution_count": 52,
   "metadata": {},
   "outputs": [
    {
     "name": "stdout",
     "output_type": "stream",
     "text": [
      "The probability: 0.00\n",
      "F1: 0.00\n",
      "Confusion Matrix\n",
      "[[0.88384568 0.        ]\n",
      " [0.11615432 0.        ]]\n",
      "\n",
      "The probability: 0.12\n",
      "F1: 0.13\n",
      "Confusion Matrix\n",
      "[[0.78502166 0.09882401]\n",
      " [0.1017124  0.01444192]]\n",
      "\n",
      "The probability: 0.50\n",
      "F1: 0.19\n",
      "Confusion Matrix\n",
      "[[0.44873117 0.4351145 ]\n",
      " [0.05921188 0.05694244]]\n",
      "\n",
      "The probability: 1.00\n",
      "F1: 0.21\n",
      "Confusion Matrix\n",
      "[[0.         0.88384568]\n",
      " [0.         0.11615432]]\n",
      "\n"
     ]
    }
   ],
   "source": [
    "for P in [0, df['insurance_benefits_received'].sum() / len(df), 0.5, 1]:\n",
    "\n",
    "    print(f'The probability: {P:.2f}')\n",
    "    y_pred_rnd = rnd_model_predict(P, size=len(df), seed=42)\n",
    "        \n",
    "    eval_classifier(df['insurance_benefits_received'], y_pred_rnd)\n",
    "    \n",
    "    print()"
   ]
  },
  {
   "cell_type": "code",
   "execution_count": 53,
   "metadata": {},
   "outputs": [],
   "source": [
    "train, valid = \\\n",
    "(\n",
    "    train_test_split(df, stratify=df['insurance_benefits_received'], test_size=0.3, random_state=42)\n",
    ")\n",
    "features_train, target_train = train[feature_names], train['insurance_benefits_received']\n",
    "features_valid, target_valid = valid[feature_names], valid['insurance_benefits_received']"
   ]
  },
  {
   "cell_type": "code",
   "execution_count": 54,
   "metadata": {},
   "outputs": [
    {
     "data": {
      "text/plain": [
       "((3392, 4), (3392,), (1455, 4), (1455,))"
      ]
     },
     "execution_count": 54,
     "metadata": {},
     "output_type": "execute_result"
    }
   ],
   "source": [
    "features_train.shape, target_train.shape, features_valid.shape, target_valid.shape"
   ]
  },
  {
   "cell_type": "code",
   "execution_count": 55,
   "metadata": {},
   "outputs": [],
   "source": [
    "def build_model(train, target, test, n_neighbors):\n",
    "    \"\"\"\n",
    "    Fit a model and make predictions\n",
    "    \"\"\"\n",
    "    np.random.seed(42)\n",
    "    model = KNeighborsClassifier(n_neighbors=n_neighbors)\n",
    "    model.fit(features_train, target)\n",
    "    y_pred = model.predict(test)\n",
    "    return y_pred"
   ]
  },
  {
   "cell_type": "code",
   "execution_count": 56,
   "metadata": {},
   "outputs": [
    {
     "name": "stdout",
     "output_type": "stream",
     "text": [
      "For neighbor k=1\n",
      "F1: 0.68\n",
      "Confusion Matrix\n",
      "[[0.86804124 0.01580756]\n",
      " [0.04879725 0.06735395]]\n",
      "\n",
      "For neighbor k=2\n",
      "F1: 0.40\n",
      "Confusion Matrix\n",
      "[[0.87835052 0.00549828]\n",
      " [0.08591065 0.03024055]]\n",
      "\n",
      "For neighbor k=3\n",
      "F1: 0.41\n",
      "Confusion Matrix\n",
      "[[0.87353952 0.01030928]\n",
      " [0.0838488  0.03230241]]\n",
      "\n",
      "For neighbor k=4\n",
      "F1: 0.21\n",
      "Confusion Matrix\n",
      "[[0.88041237 0.00343643]\n",
      " [0.1024055  0.0137457 ]]\n",
      "\n",
      "For neighbor k=5\n",
      "F1: 0.22\n",
      "Confusion Matrix\n",
      "[[0.8790378  0.004811  ]\n",
      " [0.10103093 0.01512027]]\n",
      "\n",
      "For neighbor k=6\n",
      "F1: 0.02\n",
      "Confusion Matrix\n",
      "[[0.8838488  0.        ]\n",
      " [0.11477663 0.00137457]]\n",
      "\n",
      "For neighbor k=7\n",
      "F1: 0.05\n",
      "Confusion Matrix\n",
      "[[0.88109966 0.00274914]\n",
      " [0.11340206 0.00274914]]\n",
      "\n",
      "For neighbor k=8\n",
      "F1: 0.03\n",
      "Confusion Matrix\n",
      "[[8.83161512e-01 6.87285223e-04]\n",
      " [1.14089347e-01 2.06185567e-03]]\n",
      "\n",
      "For neighbor k=9\n",
      "F1: 0.03\n",
      "Confusion Matrix\n",
      "[[0.88247423 0.00137457]\n",
      " [0.11408935 0.00206186]]\n",
      "\n",
      "For neighbor k=10\n",
      "F1: 0.02\n",
      "Confusion Matrix\n",
      "[[0.8838488  0.        ]\n",
      " [0.11477663 0.00137457]]\n",
      "\n"
     ]
    }
   ],
   "source": [
    "n_neighbors = 10\n",
    "# using unscaled data\n",
    "for k in range(1, n_neighbors+1):\n",
    "    y_pred = build_model(features_train, target_train, features_valid, k)\n",
    "    print('For neighbor k={}'.format(k))\n",
    "    eval_classifier(target_valid, y_pred)\n",
    "    print()"
   ]
  },
  {
   "cell_type": "code",
   "execution_count": 57,
   "metadata": {},
   "outputs": [],
   "source": [
    "# reduce the target to either received benefit 1, or not received benefit 0\n",
    "df_scaled['insurance_benefits_received'] = (df_scaled['insurance_benefits'] > 0).astype(int)"
   ]
  },
  {
   "cell_type": "code",
   "execution_count": 58,
   "metadata": {},
   "outputs": [],
   "source": [
    "train, valid = \\\n",
    "(\n",
    "    train_test_split(df_scaled, stratify=df_scaled['insurance_benefits_received'], test_size=0.3, random_state=42)\n",
    ")\n",
    "features_train, target_train = train[feature_names], train['insurance_benefits_received']\n",
    "features_valid, target_valid = valid[feature_names], valid['insurance_benefits_received']"
   ]
  },
  {
   "cell_type": "code",
   "execution_count": 59,
   "metadata": {},
   "outputs": [
    {
     "data": {
      "text/plain": [
       "((3392, 4), (3392,), (1455, 4), (1455,))"
      ]
     },
     "execution_count": 59,
     "metadata": {},
     "output_type": "execute_result"
    }
   ],
   "source": [
    "features_train.shape, target_train.shape, features_valid.shape, target_valid.shape"
   ]
  },
  {
   "cell_type": "code",
   "execution_count": 60,
   "metadata": {},
   "outputs": [
    {
     "name": "stdout",
     "output_type": "stream",
     "text": [
      "For neighbor k=1\n",
      "F1: 0.94\n",
      "Confusion Matrix\n",
      "[[0.8790378  0.004811  ]\n",
      " [0.00824742 0.10790378]]\n",
      "\n",
      "For neighbor k=2\n",
      "F1: 0.91\n",
      "Confusion Matrix\n",
      "[[0.88109966 0.00274914]\n",
      " [0.01786942 0.09828179]]\n",
      "\n",
      "For neighbor k=3\n",
      "F1: 0.92\n",
      "Confusion Matrix\n",
      "[[0.87697595 0.00687285]\n",
      " [0.01168385 0.10446735]]\n",
      "\n",
      "For neighbor k=4\n",
      "F1: 0.89\n",
      "Confusion Matrix\n",
      "[[8.83161512e-01 6.87285223e-04]\n",
      " [2.33676976e-02 9.27835052e-02]]\n",
      "\n",
      "For neighbor k=5\n",
      "F1: 0.91\n",
      "Confusion Matrix\n",
      "[[0.87972509 0.00412371]\n",
      " [0.01580756 0.10034364]]\n",
      "\n",
      "For neighbor k=6\n",
      "F1: 0.88\n",
      "Confusion Matrix\n",
      "[[8.83161512e-01 6.87285223e-04]\n",
      " [2.40549828e-02 9.20962199e-02]]\n",
      "\n",
      "For neighbor k=7\n",
      "F1: 0.91\n",
      "Confusion Matrix\n",
      "[[0.88247423 0.00137457]\n",
      " [0.01718213 0.09896907]]\n",
      "\n",
      "For neighbor k=8\n",
      "F1: 0.89\n",
      "Confusion Matrix\n",
      "[[0.8838488  0.        ]\n",
      " [0.02268041 0.09347079]]\n",
      "\n",
      "For neighbor k=9\n",
      "F1: 0.91\n",
      "Confusion Matrix\n",
      "[[8.83161512e-01 6.87285223e-04]\n",
      " [1.92439863e-02 9.69072165e-02]]\n",
      "\n",
      "For neighbor k=10\n",
      "F1: 0.88\n",
      "Confusion Matrix\n",
      "[[0.8838488  0.        ]\n",
      " [0.02542955 0.09072165]]\n",
      "\n"
     ]
    }
   ],
   "source": [
    "for k in range(1, n_neighbors+1):\n",
    "    y_pred = build_model(features_train, target_train, features_valid, k)\n",
    "    print('For neighbor k={}'.format(k))\n",
    "    eval_classifier(target_valid, y_pred)\n",
    "    print()"
   ]
  },
  {
   "cell_type": "markdown",
   "metadata": {},
   "source": [
    "1) Comparing KNearestNeighbhors between unscaled and scaled data shows a huge difference in the F1 score; the lowest F1 score \n",
    "produced by any model using scaled features is 88%, whereas for unscaled features it is 0.02. Clearly, showing how\n",
    "the use of distance metric during fitting impacts predictions by large valued features - in this case `income`.\n",
    "\n",
    "2) The scaled model surpasses the dummy model."
   ]
  },
  {
   "cell_type": "markdown",
   "metadata": {},
   "source": [
    "# Task 3. Regression (with Linear Regression)"
   ]
  },
  {
   "cell_type": "markdown",
   "metadata": {},
   "source": [
    "With `insurance_benefits` as the target, evaluate what RMSE would be for a Linear Regression model."
   ]
  },
  {
   "cell_type": "markdown",
   "metadata": {},
   "source": [
    "Build your own implementation of LR. For that, recall how the linear regression task's solution is formulated in terms of LA. Check RMSE for both the original data and the scaled one. Can you see any difference in RMSE between these two cases?\n",
    "\n",
    "Let's denote\n",
    "- $X$ — feature matrix, each row is a case, each column is a feature, the first column consists of unities\n",
    "- $y$ — target (a vector)\n",
    "- $\\hat{y}$ — estimated tagret (a vector)\n",
    "- $w$ — weight vector\n",
    "\n",
    "The task of linear regression in the language of matrices can be formulated as\n",
    "\n",
    "$$\n",
    "y = Xw\n",
    "$$\n",
    "\n",
    "The training objective then is to find such $w$ that it would minimize the L2-distance (MSE) between $Xw$ and $y$:\n",
    "\n",
    "$$\n",
    "\\min_w d_2(Xw, y) \\quad \\text{or} \\quad \\min_w \\text{MSE}(Xw, y)\n",
    "$$\n",
    "\n",
    "It appears that there is analytical solution for the above:\n",
    "\n",
    "$$\n",
    "w = (X^T X)^{-1} X^T y\n",
    "$$\n",
    "\n",
    "The formula above can be used to find the weights $w$ and the latter can be used to calculate predicted values\n",
    "\n",
    "$$\n",
    "\\hat{y} = X_{val}w\n",
    "$$"
   ]
  },
  {
   "cell_type": "markdown",
   "metadata": {},
   "source": [
    "Split the whole data in the 70:30 proportion for the training/validation parts. Use the RMSE metric for the model evaluation."
   ]
  },
  {
   "cell_type": "code",
   "execution_count": 73,
   "metadata": {},
   "outputs": [],
   "source": [
    "class MyLinearRegression:\n",
    "    \n",
    "    def __init__(self):\n",
    "        \n",
    "        self.weights = None\n",
    "    \n",
    "    def fit(self, X, y):\n",
    "        \n",
    "        # adding the unities\n",
    "        X2 = np.append(np.ones([len(X), 1]), X, axis=1)\n",
    "        self.weights = np.linalg.inv(X2.T.dot(X2)).dot(X2.T).dot(y)\n",
    "\n",
    "    def predict(self, X):\n",
    "        \n",
    "        # adding the unities\n",
    "        X2 = np.append(np.ones([X.shape[0], 1]), X, axis=1)\n",
    "        y_pred = np.dot(X2, self.weights)\n",
    "        \n",
    "        return y_pred"
   ]
  },
  {
   "cell_type": "code",
   "execution_count": 74,
   "metadata": {},
   "outputs": [],
   "source": [
    "def eval_regressor(y_true, y_pred):\n",
    "    \n",
    "    rmse = math.sqrt(sklearn.metrics.mean_squared_error(y_true, y_pred))\n",
    "    print(f'RMSE: {rmse:.2f}')\n",
    "    \n",
    "    r2_score = math.sqrt(sklearn.metrics.r2_score(y_true, y_pred))\n",
    "    print(f'R2: {r2_score:.2f}')    "
   ]
  },
  {
   "cell_type": "code",
   "execution_count": 75,
   "metadata": {},
   "outputs": [
    {
     "name": "stdout",
     "output_type": "stream",
     "text": [
      "[-9.77366679e-01  3.58042290e-02  1.95594897e-02  5.85335011e-07\n",
      " -1.21618426e-02]\n",
      "RMSE: 0.36\n",
      "R2: 0.66\n"
     ]
    }
   ],
   "source": [
    "X = df[['age', 'gender', 'income', 'family_members']].to_numpy()\n",
    "y = df['insurance_benefits'].to_numpy()\n",
    "\n",
    "X_train, X_test, y_train, y_test = train_test_split(X, y, test_size=0.3, random_state=12345)\n",
    "\n",
    "lr = MyLinearRegression()\n",
    "\n",
    "lr.fit(X_train, y_train)\n",
    "print(lr.weights)\n",
    "\n",
    "y_test_pred = lr.predict(X_test)\n",
    "eval_regressor(y_test, y_test_pred)"
   ]
  },
  {
   "cell_type": "code",
   "execution_count": 76,
   "metadata": {},
   "outputs": [
    {
     "name": "stdout",
     "output_type": "stream",
     "text": [
      "[-0.97736668  2.32727489  0.01955949  0.04624147 -0.07297106]\n",
      "RMSE: 0.36\n",
      "R2: 0.66\n"
     ]
    }
   ],
   "source": [
    "X = df_scaled[['age', 'gender', 'income', 'family_members']].to_numpy()\n",
    "y = df_scaled['insurance_benefits'].to_numpy()\n",
    "\n",
    "X_train, X_test, y_train, y_test = train_test_split(X, y, test_size=0.3, random_state=12345)\n",
    "\n",
    "lr = MyLinearRegression()\n",
    "\n",
    "lr.fit(X_train, y_train)\n",
    "print(lr.weights)\n",
    "\n",
    "y_test_pred = lr.predict(X_test)\n",
    "eval_regressor(y_test, y_test_pred)"
   ]
  },
  {
   "cell_type": "markdown",
   "metadata": {},
   "source": [
    "1) Only 66% of the variance is explained by the features when the data is unscaled.\n",
    "\n",
    "2) There is no difference in either the RMSE or R2 score post scaling; this is expected as Linear Regression makes\n",
    "predictions using the units of the output, making necessary adjustments to the units of the features."
   ]
  },
  {
   "cell_type": "markdown",
   "metadata": {},
   "source": [
    "# Task 4. Obfuscating Data"
   ]
  },
  {
   "cell_type": "markdown",
   "metadata": {},
   "source": [
    "It best to obfuscate data by multiplying the numerical features (remember, they can be seen as the matrix $X$) by an invertible matrix $P$. \n",
    "\n",
    "$$\n",
    "X' = X \\times P\n",
    "$$\n",
    "\n",
    "Try to do that and check how the features' values will look like after the transformation. By the way, the intertible property is important here so make sure that $P$ is indeed invertible.\n",
    "\n",
    "You may want to review the 'Matrices and Matrix Operations -> Matrix Mupliplication' lesson to recall the rule of matrix multiplication and its implementation with NumPy."
   ]
  },
  {
   "cell_type": "code",
   "execution_count": 77,
   "metadata": {},
   "outputs": [],
   "source": [
    "personal_info_column_list = ['gender', 'age', 'income', 'family_members']\n",
    "df_pn = df[personal_info_column_list]"
   ]
  },
  {
   "cell_type": "code",
   "execution_count": 78,
   "metadata": {},
   "outputs": [],
   "source": [
    "X = df_pn.to_numpy()"
   ]
  },
  {
   "cell_type": "markdown",
   "metadata": {},
   "source": [
    "Generating a random matrix $P$."
   ]
  },
  {
   "cell_type": "code",
   "execution_count": 79,
   "metadata": {},
   "outputs": [],
   "source": [
    "rng = np.random.default_rng(seed=42)\n",
    "P = rng.random(size=(X.shape[1], X.shape[1]))"
   ]
  },
  {
   "cell_type": "markdown",
   "metadata": {},
   "source": [
    "Checking the matrix $P$ is invertible\n",
    "\n",
    "$$ PP^{-1} = P^{-1}P = I $$"
   ]
  },
  {
   "cell_type": "code",
   "execution_count": 80,
   "metadata": {},
   "outputs": [
    {
     "data": {
      "text/plain": [
       "array([[ 1.00000000e+00, -1.69848573e-16, -7.58122972e-17,\n",
       "        -1.13112497e-16],\n",
       "       [-6.94895396e-17,  1.00000000e+00, -7.10568689e-17,\n",
       "         3.59096970e-17],\n",
       "       [-1.21269339e-16, -8.01461326e-17,  1.00000000e+00,\n",
       "         4.30764008e-19],\n",
       "       [-3.60694539e-16, -5.55430227e-16,  3.08072404e-16,\n",
       "         1.00000000e+00]])"
      ]
     },
     "execution_count": 80,
     "metadata": {},
     "output_type": "execute_result"
    }
   ],
   "source": [
    "np.dot(P, np.linalg.inv(P))"
   ]
  },
  {
   "cell_type": "code",
   "execution_count": 81,
   "metadata": {},
   "outputs": [
    {
     "data": {
      "text/plain": [
       "True"
      ]
     },
     "execution_count": 81,
     "metadata": {},
     "output_type": "execute_result"
    }
   ],
   "source": [
    "np.allclose(np.dot(P, np.linalg.inv(P)), np.dot(np.linalg.inv(P), P))"
   ]
  },
  {
   "cell_type": "code",
   "execution_count": 82,
   "metadata": {},
   "outputs": [
    {
     "data": {
      "text/plain": [
       "array([[ 6359.71527314, 22380.40467609, 18424.09074184, 46000.69669016],\n",
       "       [ 4873.29406479, 17160.36702982, 14125.78076133, 35253.45577301],\n",
       "       [ 2693.11742928,  9486.397744  ,  7808.83156024, 19484.86063067],\n",
       "       ...,\n",
       "       [ 4346.2234249 , 15289.24126492, 12586.16264392, 31433.50888552],\n",
       "       [ 4194.09324155, 14751.9910242 , 12144.02930637, 30323.88763426],\n",
       "       [ 5205.46827354, 18314.24814446, 15077.01370762, 37649.59295455]])"
      ]
     },
     "execution_count": 82,
     "metadata": {},
     "output_type": "execute_result"
    }
   ],
   "source": [
    "np.dot(X, P)"
   ]
  },
  {
   "cell_type": "markdown",
   "metadata": {},
   "source": [
    "Can you guess the customers' ages or income after the transformation?"
   ]
  },
  {
   "cell_type": "markdown",
   "metadata": {},
   "source": [
    "1) It is clear, that the data is indecipherable."
   ]
  },
  {
   "cell_type": "markdown",
   "metadata": {},
   "source": [
    "Can you recover the original data from $X'$ if you know $P$? Try to check that with calculations by moving $P$ from the right side of the formula above to the left one. The rules of matrix multiplcation are really helpful here.\n",
    "\n",
    "$$ X^{'}P^{-1} = (XP)P^{-1} = X(PP^{-1})$$"
   ]
  },
  {
   "cell_type": "code",
   "execution_count": 83,
   "metadata": {},
   "outputs": [
    {
     "data": {
      "text/html": [
       "<div>\n",
       "<style scoped>\n",
       "    .dataframe tbody tr th:only-of-type {\n",
       "        vertical-align: middle;\n",
       "    }\n",
       "\n",
       "    .dataframe tbody tr th {\n",
       "        vertical-align: top;\n",
       "    }\n",
       "\n",
       "    .dataframe thead th {\n",
       "        text-align: right;\n",
       "    }\n",
       "</style>\n",
       "<table border=\"1\" class=\"dataframe\">\n",
       "  <thead>\n",
       "    <tr style=\"text-align: right;\">\n",
       "      <th></th>\n",
       "      <th>gender</th>\n",
       "      <th>age</th>\n",
       "      <th>income</th>\n",
       "      <th>family_members</th>\n",
       "    </tr>\n",
       "  </thead>\n",
       "  <tbody>\n",
       "    <tr>\n",
       "      <th>0</th>\n",
       "      <td>1.000000e+00</td>\n",
       "      <td>41.0</td>\n",
       "      <td>49600.0</td>\n",
       "      <td>1.000000e+00</td>\n",
       "    </tr>\n",
       "    <tr>\n",
       "      <th>1</th>\n",
       "      <td>-4.611792e-12</td>\n",
       "      <td>46.0</td>\n",
       "      <td>38000.0</td>\n",
       "      <td>1.000000e+00</td>\n",
       "    </tr>\n",
       "    <tr>\n",
       "      <th>2</th>\n",
       "      <td>-2.548671e-12</td>\n",
       "      <td>29.0</td>\n",
       "      <td>21000.0</td>\n",
       "      <td>1.008743e-14</td>\n",
       "    </tr>\n",
       "    <tr>\n",
       "      <th>3</th>\n",
       "      <td>-5.059112e-12</td>\n",
       "      <td>21.0</td>\n",
       "      <td>41700.0</td>\n",
       "      <td>2.000000e+00</td>\n",
       "    </tr>\n",
       "    <tr>\n",
       "      <th>4</th>\n",
       "      <td>1.000000e+00</td>\n",
       "      <td>28.0</td>\n",
       "      <td>26100.0</td>\n",
       "      <td>1.213530e-14</td>\n",
       "    </tr>\n",
       "  </tbody>\n",
       "</table>\n",
       "</div>"
      ],
      "text/plain": [
       "         gender   age   income  family_members\n",
       "0  1.000000e+00  41.0  49600.0    1.000000e+00\n",
       "1 -4.611792e-12  46.0  38000.0    1.000000e+00\n",
       "2 -2.548671e-12  29.0  21000.0    1.008743e-14\n",
       "3 -5.059112e-12  21.0  41700.0    2.000000e+00\n",
       "4  1.000000e+00  28.0  26100.0    1.213530e-14"
      ]
     },
     "execution_count": 83,
     "metadata": {},
     "output_type": "execute_result"
    }
   ],
   "source": [
    "pd.DataFrame(np.dot(X, np.dot(P, np.linalg.inv(P))), columns=feature_names).head()"
   ]
  },
  {
   "cell_type": "markdown",
   "metadata": {},
   "source": [
    "1) Yes, we are able to recover the original matrix X after matrix multiplication of the results of X*P with the inverse of P"
   ]
  },
  {
   "cell_type": "markdown",
   "metadata": {},
   "source": [
    "Print all three cases for a few customers\n",
    "- The original data\n",
    "- The transformed one\n",
    "- The reversed (recovered) one"
   ]
  },
  {
   "cell_type": "code",
   "execution_count": 84,
   "metadata": {},
   "outputs": [
    {
     "data": {
      "text/html": [
       "<div>\n",
       "<style scoped>\n",
       "    .dataframe tbody tr th:only-of-type {\n",
       "        vertical-align: middle;\n",
       "    }\n",
       "\n",
       "    .dataframe tbody tr th {\n",
       "        vertical-align: top;\n",
       "    }\n",
       "\n",
       "    .dataframe thead th {\n",
       "        text-align: right;\n",
       "    }\n",
       "</style>\n",
       "<table border=\"1\" class=\"dataframe\">\n",
       "  <thead>\n",
       "    <tr style=\"text-align: right;\">\n",
       "      <th></th>\n",
       "      <th>gender</th>\n",
       "      <th>age</th>\n",
       "      <th>income</th>\n",
       "      <th>family_members</th>\n",
       "    </tr>\n",
       "  </thead>\n",
       "  <tbody>\n",
       "    <tr>\n",
       "      <th>0</th>\n",
       "      <td>1</td>\n",
       "      <td>41</td>\n",
       "      <td>49600</td>\n",
       "      <td>1</td>\n",
       "    </tr>\n",
       "    <tr>\n",
       "      <th>1</th>\n",
       "      <td>0</td>\n",
       "      <td>46</td>\n",
       "      <td>38000</td>\n",
       "      <td>1</td>\n",
       "    </tr>\n",
       "    <tr>\n",
       "      <th>2</th>\n",
       "      <td>0</td>\n",
       "      <td>29</td>\n",
       "      <td>21000</td>\n",
       "      <td>0</td>\n",
       "    </tr>\n",
       "    <tr>\n",
       "      <th>3</th>\n",
       "      <td>0</td>\n",
       "      <td>21</td>\n",
       "      <td>41700</td>\n",
       "      <td>2</td>\n",
       "    </tr>\n",
       "    <tr>\n",
       "      <th>4</th>\n",
       "      <td>1</td>\n",
       "      <td>28</td>\n",
       "      <td>26100</td>\n",
       "      <td>0</td>\n",
       "    </tr>\n",
       "  </tbody>\n",
       "</table>\n",
       "</div>"
      ],
      "text/plain": [
       "   gender  age  income  family_members\n",
       "0       1   41   49600               1\n",
       "1       0   46   38000               1\n",
       "2       0   29   21000               0\n",
       "3       0   21   41700               2\n",
       "4       1   28   26100               0"
      ]
     },
     "execution_count": 84,
     "metadata": {},
     "output_type": "execute_result"
    }
   ],
   "source": [
    "# original data\n",
    "pd.DataFrame(X, columns=feature_names).head()"
   ]
  },
  {
   "cell_type": "code",
   "execution_count": 85,
   "metadata": {},
   "outputs": [
    {
     "data": {
      "text/html": [
       "<div>\n",
       "<style scoped>\n",
       "    .dataframe tbody tr th:only-of-type {\n",
       "        vertical-align: middle;\n",
       "    }\n",
       "\n",
       "    .dataframe tbody tr th {\n",
       "        vertical-align: top;\n",
       "    }\n",
       "\n",
       "    .dataframe thead th {\n",
       "        text-align: right;\n",
       "    }\n",
       "</style>\n",
       "<table border=\"1\" class=\"dataframe\">\n",
       "  <thead>\n",
       "    <tr style=\"text-align: right;\">\n",
       "      <th></th>\n",
       "      <th>gender</th>\n",
       "      <th>age</th>\n",
       "      <th>income</th>\n",
       "      <th>family_members</th>\n",
       "    </tr>\n",
       "  </thead>\n",
       "  <tbody>\n",
       "    <tr>\n",
       "      <th>0</th>\n",
       "      <td>6359.715273</td>\n",
       "      <td>22380.404676</td>\n",
       "      <td>18424.090742</td>\n",
       "      <td>46000.696690</td>\n",
       "    </tr>\n",
       "    <tr>\n",
       "      <th>1</th>\n",
       "      <td>4873.294065</td>\n",
       "      <td>17160.367030</td>\n",
       "      <td>14125.780761</td>\n",
       "      <td>35253.455773</td>\n",
       "    </tr>\n",
       "    <tr>\n",
       "      <th>2</th>\n",
       "      <td>2693.117429</td>\n",
       "      <td>9486.397744</td>\n",
       "      <td>7808.831560</td>\n",
       "      <td>19484.860631</td>\n",
       "    </tr>\n",
       "    <tr>\n",
       "      <th>3</th>\n",
       "      <td>5345.603937</td>\n",
       "      <td>18803.227203</td>\n",
       "      <td>15479.148373</td>\n",
       "      <td>38663.061863</td>\n",
       "    </tr>\n",
       "    <tr>\n",
       "      <th>4</th>\n",
       "      <td>3347.176735</td>\n",
       "      <td>11782.829283</td>\n",
       "      <td>9699.998942</td>\n",
       "      <td>24211.273378</td>\n",
       "    </tr>\n",
       "  </tbody>\n",
       "</table>\n",
       "</div>"
      ],
      "text/plain": [
       "        gender           age        income  family_members\n",
       "0  6359.715273  22380.404676  18424.090742    46000.696690\n",
       "1  4873.294065  17160.367030  14125.780761    35253.455773\n",
       "2  2693.117429   9486.397744   7808.831560    19484.860631\n",
       "3  5345.603937  18803.227203  15479.148373    38663.061863\n",
       "4  3347.176735  11782.829283   9699.998942    24211.273378"
      ]
     },
     "execution_count": 85,
     "metadata": {},
     "output_type": "execute_result"
    }
   ],
   "source": [
    "# transformed one\n",
    "pd.DataFrame(np.dot(X, P), columns=feature_names).head()"
   ]
  },
  {
   "cell_type": "code",
   "execution_count": 86,
   "metadata": {},
   "outputs": [
    {
     "data": {
      "text/html": [
       "<div>\n",
       "<style scoped>\n",
       "    .dataframe tbody tr th:only-of-type {\n",
       "        vertical-align: middle;\n",
       "    }\n",
       "\n",
       "    .dataframe tbody tr th {\n",
       "        vertical-align: top;\n",
       "    }\n",
       "\n",
       "    .dataframe thead th {\n",
       "        text-align: right;\n",
       "    }\n",
       "</style>\n",
       "<table border=\"1\" class=\"dataframe\">\n",
       "  <thead>\n",
       "    <tr style=\"text-align: right;\">\n",
       "      <th></th>\n",
       "      <th>gender</th>\n",
       "      <th>age</th>\n",
       "      <th>income</th>\n",
       "      <th>family_members</th>\n",
       "    </tr>\n",
       "  </thead>\n",
       "  <tbody>\n",
       "    <tr>\n",
       "      <th>0</th>\n",
       "      <td>1.000000e+00</td>\n",
       "      <td>41.0</td>\n",
       "      <td>49600.0</td>\n",
       "      <td>1.000000e+00</td>\n",
       "    </tr>\n",
       "    <tr>\n",
       "      <th>1</th>\n",
       "      <td>-4.611792e-12</td>\n",
       "      <td>46.0</td>\n",
       "      <td>38000.0</td>\n",
       "      <td>1.000000e+00</td>\n",
       "    </tr>\n",
       "    <tr>\n",
       "      <th>2</th>\n",
       "      <td>-2.548671e-12</td>\n",
       "      <td>29.0</td>\n",
       "      <td>21000.0</td>\n",
       "      <td>1.008743e-14</td>\n",
       "    </tr>\n",
       "    <tr>\n",
       "      <th>3</th>\n",
       "      <td>-5.059112e-12</td>\n",
       "      <td>21.0</td>\n",
       "      <td>41700.0</td>\n",
       "      <td>2.000000e+00</td>\n",
       "    </tr>\n",
       "    <tr>\n",
       "      <th>4</th>\n",
       "      <td>1.000000e+00</td>\n",
       "      <td>28.0</td>\n",
       "      <td>26100.0</td>\n",
       "      <td>1.213530e-14</td>\n",
       "    </tr>\n",
       "  </tbody>\n",
       "</table>\n",
       "</div>"
      ],
      "text/plain": [
       "         gender   age   income  family_members\n",
       "0  1.000000e+00  41.0  49600.0    1.000000e+00\n",
       "1 -4.611792e-12  46.0  38000.0    1.000000e+00\n",
       "2 -2.548671e-12  29.0  21000.0    1.008743e-14\n",
       "3 -5.059112e-12  21.0  41700.0    2.000000e+00\n",
       "4  1.000000e+00  28.0  26100.0    1.213530e-14"
      ]
     },
     "execution_count": 86,
     "metadata": {},
     "output_type": "execute_result"
    }
   ],
   "source": [
    "pd.DataFrame(np.dot(X, np.dot(P, np.linalg.inv(P))), columns=feature_names).head()"
   ]
  },
  {
   "cell_type": "markdown",
   "metadata": {},
   "source": [
    "You can probably see that some values are not exactly the same as they are in the original data. What might be the reason for that?"
   ]
  },
  {
   "cell_type": "markdown",
   "metadata": {},
   "source": [
    "1) The reason for the recovered matrix not exactly matching the original matrix is due to floating point errors- there is only a finite number of bits allocated to storing real numbers."
   ]
  },
  {
   "cell_type": "markdown",
   "metadata": {},
   "source": [
    "\n"
   ]
  },
  {
   "cell_type": "markdown",
   "metadata": {},
   "source": [
    "## Proof That Data Obfuscation Can Work with LR"
   ]
  },
  {
   "cell_type": "markdown",
   "metadata": {},
   "source": [
    "The regression task has been solved with linear regression in this project. Your next task is to prove _analytically_ that the given obfuscation method won't affect linear regression in terms of predicted values i.e. their values will remain the same. Can you believe that? Well, you don't have to, you should prove it!"
   ]
  },
  {
   "cell_type": "markdown",
   "metadata": {},
   "source": [
    "So, the data is obfuscated and there is $X \\times P$ instead of just $X$ now. Consequently, there are other weights $w_P$ as\n",
    "$$\n",
    "w = (X^T X)^{-1} X^T y \\quad \\Rightarrow \\quad w_P = [(XP)^T XP]^{-1} (XP)^T y\n",
    "$$\n",
    "\n",
    "How would $w$ and $w_P$ be linked if you simplify the formula for $w_P$ above? \n",
    "\n",
    "What would be predicted values with $w_P$? \n",
    "\n",
    "What does that mean for the quality of linear regression if you measure it with RMSE?\n",
    "\n",
    "Check Appendix B Properties of Matrices in the end of the notebook. There are useful formulas in there!\n",
    "\n",
    "No code is necessary in this section, only analytical explanation!"
   ]
  },
  {
   "cell_type": "markdown",
   "metadata": {},
   "source": [
    "**Answer**"
   ]
  },
  {
   "cell_type": "markdown",
   "metadata": {},
   "source": [
    "So, the link between w and wP is that wP is derived from w by introducing the obfuscation factor P^(-1). The obfuscation has caused a transformation in the way the weights are calculated, introducing an additional scaling factor for the data matrix.\n"
   ]
  },
  {
   "cell_type": "markdown",
   "metadata": {},
   "source": [
    "\n",
    "The predicted values (often denoted as ŷ) using the weights wP can be calculated by multiplying the input data matrix XP (obfuscated data) with the weights wP. The formula for predicting values using wP is:\n",
    "\n"
   ]
  },
  {
   "cell_type": "markdown",
   "metadata": {},
   "source": [
    "\n",
    "The predicted values (often denoted as ŷ) using the weights wP can be calculated by multiplying the input data matrix XP (obfuscated data) with the weights wP. The formula for predicting values using wP is: ŷP = XP * wP"
   ]
  },
  {
   "cell_type": "markdown",
   "metadata": {},
   "source": [
    "When you introduce an obfuscation factor P^(-1) to a weight matrix w, the transformation is achieved through matrix multiplication. However, the order of multiplication matters in matrix multiplication, as it is not commutative.\n",
    "\n",
    "If you multiply the weight matrix w by P^(-1) from the right (post-multiply), the transformation equation would be:\n",
    "\n",
    "wP = w * P^(-1)\n",
    "\n",
    "Here, the obfuscation factor P^(-1) is applied to the original weight matrix w from the right side.\n",
    "\n",
    "If you multiply the weight matrix w by P^(-1) from the left (pre-multiply), the transformation equation would be:\n",
    "\n",
    "wP = P^(-1) * w\n",
    "\n",
    "Here, the obfuscation factor P^(-1) is applied to the original weight matrix w from the left side.\n",
    "\n",
    "The choice of whether to multiply w by P^(-1) from the left or the right depends on the specific context and requirements of the transformation you are trying to achieve. The multiplication from the left and the right will lead to different results and interpretations.\n",
    "\n",
    "It's important to clarify the specific context in which this transformation is being applied and whether it's the left or right multiplication that is intended, as it will affect the resulting weight matrix wP and the associated scaling effects on the data matrix.\n",
    "\n",
    "\n",
    "\n",
    "\n",
    "\n"
   ]
  },
  {
   "cell_type": "markdown",
   "metadata": {},
   "source": [
    "wP = w * P^(-1)\n",
    "\n",
    "And the formula for predicting values using the obfuscated weight matrix wP is:\n",
    "\n",
    "ŷP = XP * wP\n",
    "\n",
    "Plugging in the expression for wP:\n",
    "\n",
    "ŷP = XP * (w * P^(-1))\n",
    "\n",
    "Here, XP represents the obfuscated input data matrix, and wP is the obfuscated weight matrix.\n",
    "\n",
    "This formula shows how the obfuscated input data matrix XP is multiplied by the obfuscated weight matrix wP to calculate the predicted values ŷP. The introduction of the obfuscation factor P^(-1) in the weight matrix affects the scaling and transformation of the predictions based on the input data.\n",
    "\n",
    "\n",
    "\n",
    "\n",
    "\n"
   ]
  },
  {
   "cell_type": "markdown",
   "metadata": {},
   "source": [
    "\n",
    "\n"
   ]
  },
  {
   "cell_type": "markdown",
   "metadata": {},
   "source": [
    "\n",
    "\n"
   ]
  },
  {
   "cell_type": "markdown",
   "metadata": {},
   "source": [
    "Given equation: 𝑤𝑃 = [(𝑋𝑃)𝑇𝑋𝑃]−1(𝑋𝑃)𝑇𝑦\n",
    "\n",
    "Step 1: Distribute the inverse\n",
    "We know that (AB)^-1 = B^-1 * A^-1. Applying this rule to the equation:\n",
    "\n",
    "𝑤𝑃 = (𝑋𝑃)𝑇(𝑋𝑃)−1(𝑋𝑃)𝑇𝑦\n",
    "\n",
    "Step 2: Rearrange the terms\n",
    "Let's rearrange the terms to clearly see if 𝑤 is multiplied by 𝑃^-1 from the left or from the right:\n",
    "\n",
    "𝑤𝑃 = (𝑋𝑃)𝑇 [(𝑋𝑃)−1 (𝑋𝑃)𝑇] 𝑦\n",
    "\n",
    "Now, it's evident that 𝑤 is multiplied by 𝑃^-1 from the right. The term (𝑋𝑃)−1 (𝑋𝑃)𝑇 acts as the intermediate step, where 𝑃^-1 is multiplied from the right.\n",
    "\n",
    "So, the equation simplifies to:\n",
    "\n",
    "𝑤𝑃 = (𝑋𝑃)𝑇 𝑃^-1 𝑋𝑃 𝑦\n",
    "\n",
    "This indicates that 𝑤 is multiplied by 𝑃^-1 from the right in the given equation.\n",
    "\n",
    "\n",
    "\n",
    "\n",
    "\n"
   ]
  },
  {
   "cell_type": "markdown",
   "metadata": {},
   "source": [
    "\n"
   ]
  },
  {
   "cell_type": "markdown",
   "metadata": {},
   "source": [
    "I complete understand this and just used some general knowledge i already have with working with martix in college. It was a while ago.  I have tutor that i usually go to for assit for this.I have a meeting schedule with him today and will answer the question again. \n"
   ]
  },
  {
   "cell_type": "markdown",
   "metadata": {},
   "source": [
    "Given: $$\n",
    "w_P = [(XP)^T XP]^{-1} (XP)^T y \n",
    "$$\n",
    "\n",
    "By reversivity of the transpose of a product of matrices\n",
    "$$\n",
    "w_P = [(XP)^T XP]^{-1} P^{T}X^{T} y \n",
    "$$\n",
    "\n",
    "Rearranging term in  the square brackets, \n",
    "$$\n",
    "w_P = [P^{T}X^{T}XP]^{-1} P^{T}X^{T} y\n",
    "$$\n",
    "\n",
    "Expanding the term inside the  brackets\n",
    "$$\n",
    "w_P = P^{-1}(X^{T}X)^{-1}(P^{T})^{-1}P^{T}X^{T} y\n",
    "$$\n",
    "\n",
    "Using multiplicative identity, we know $$ (P^{T})^{-1}P^{T} = P^{T}(P^{T})^{-1} = I $$\n",
    " the equation reduces to\n",
    "$$\n",
    "w_P = P^{-1}(X^{T}X)^{-1}IX^{T} y\n",
    "$$\n",
    "\n",
    "We can see that \n",
    "$$\n",
    "w = (X^{T}X)^{-1}X^{T} y\n",
    "$$\n",
    "\n",
    "Substitute w\n",
    "$$\n",
    "w_P = P^{-1}w\n",
    "$$\n",
    "\n",
    "We know that\n",
    "$$\n",
    "y = Xw\n",
    "$$\n",
    "\n",
    "The prediction of \n",
    "$$\n",
    "y_{P} = X_{P}w_{P}\n",
    "$$\n",
    "\n",
    "Subsitute $$ w_{P} $$\n",
    "\n",
    "In the  euqation\n",
    "$$\n",
    "y_{P} = X_{P}(P^{-1}w)\n",
    "$$\n",
    "\n",
    "From obsfuscating the input X, we have\n",
    "$$\n",
    "X_{P} = XP\n",
    "$$\n",
    "\n",
    "Subsititute this in the above equation, we have\n",
    "$$\n",
    "y_{P} = XPP^{-1}w\n",
    "$$\n",
    "\n",
    "From multiplicative identity, we know $$ (P^{T})^{-1}P^{T} = P^{T}(P^{T})^{-1} = I $$\n",
    "\n",
    "we are left with\n",
    "$$\n",
    "y = y_{P} = Xw\n",
    "$$"
   ]
  },
  {
   "cell_type": "markdown",
   "metadata": {},
   "source": [
    "The analytical proof shows that the there should be no impact to the quality of regression as the results\n",
    "after obfuscation is the same as it would have been without it."
   ]
  },
  {
   "cell_type": "markdown",
   "metadata": {},
   "source": [
    "## Test Linear Regression With Data Obfuscation"
   ]
  },
  {
   "cell_type": "markdown",
   "metadata": {},
   "source": [
    "Now, let's prove Linear Regression can work computationally with the chosen obfuscation transformation.\n",
    "\n",
    "Build a procedure or a class that runs Linear Regression optionally with the obfuscation. You can use either a ready implementation of Linear Regression from sciki-learn or your own.\n",
    "\n",
    "Run Linear Regression for the original data and the obfuscated one, compare the predicted values and the RMSE, $R^2$ metric values. Is there any difference?"
   ]
  },
  {
   "cell_type": "markdown",
   "metadata": {},
   "source": [
    "**Procedure**\n",
    "\n",
    "- Create a square matrix $P$ of random numbers.\n",
    "- Check that it is invertible. If not, repeat the first point until we get an invertible matrix.\n",
    "- Draw $P$ from a uniform distribution.\n",
    "- Use $XP$ as the new feature matrix"
   ]
  },
  {
   "cell_type": "markdown",
   "metadata": {},
   "source": [
    "\n"
   ]
  },
  {
   "cell_type": "markdown",
   "metadata": {},
   "source": [
    "\n",
    "\n"
   ]
  },
  {
   "cell_type": "code",
   "execution_count": 87,
   "metadata": {},
   "outputs": [],
   "source": [
    "def generate_square_matrix(num_features, seed=42):\n",
    "    \"\"\"\n",
    "    Generate a square matrix from a uniform distribution\n",
    "    \"\"\"\n",
    "    rng = np.random.default_rng(seed=seed)\n",
    "    return rng.random(size=(num_features, num_features))"
   ]
  },
  {
   "cell_type": "code",
   "execution_count": 88,
   "metadata": {},
   "outputs": [],
   "source": [
    "P = generate_square_matrix(4, seed=1234)"
   ]
  },
  {
   "cell_type": "code",
   "execution_count": 89,
   "metadata": {},
   "outputs": [],
   "source": [
    "def is_invertible(P):\n",
    "    \"\"\"\n",
    "    Check if P is invertible or not\n",
    "    \"\"\"\n",
    "    return np.allclose(np.dot(P, np.linalg.inv(P)), np.dot(np.linalg.inv(P), P))"
   ]
  },
  {
   "cell_type": "code",
   "execution_count": 90,
   "metadata": {},
   "outputs": [
    {
     "data": {
      "text/plain": [
       "True"
      ]
     },
     "execution_count": 90,
     "metadata": {},
     "output_type": "execute_result"
    }
   ],
   "source": [
    "is_invertible(P)"
   ]
  },
  {
   "cell_type": "markdown",
   "metadata": {},
   "source": [
    "* Using the original data, but obfuscated"
   ]
  },
  {
   "cell_type": "code",
   "execution_count": 91,
   "metadata": {},
   "outputs": [
    {
     "name": "stdout",
     "output_type": "stream",
     "text": [
      "[-0.97736127 -0.08612947 -0.09935663  0.15099345  0.06992061]\n",
      "RMSE: 0.36\n",
      "R2: 0.66\n"
     ]
    }
   ],
   "source": [
    "X = df[['age', 'gender', 'income', 'family_members']].to_numpy()\n",
    "y = df['insurance_benefits'].to_numpy()\n",
    "\n",
    "X_train, X_test, y_train, y_test = train_test_split(np.dot(X, P), y, test_size=0.3, random_state=12345)\n",
    "\n",
    "lr = MyLinearRegression()\n",
    "\n",
    "lr.fit(X_train, y_train)\n",
    "print(lr.weights)\n",
    "\n",
    "y_test_pred = lr.predict(X_test)\n",
    "eval_regressor(y_test, y_test_pred)"
   ]
  },
  {
   "cell_type": "markdown",
   "metadata": {},
   "source": [
    "* Using the scaled data, but obfuscated"
   ]
  },
  {
   "cell_type": "code",
   "execution_count": 92,
   "metadata": {},
   "outputs": [
    {
     "name": "stdout",
     "output_type": "stream",
     "text": [
      "[-0.97736668  0.36150346 -1.23349036  3.31509473 -2.35958842]\n",
      "RMSE: 0.36\n",
      "R2: 0.66\n"
     ]
    }
   ],
   "source": [
    "X = df_scaled[['age', 'gender', 'income', 'family_members']].to_numpy()\n",
    "y = df_scaled['insurance_benefits'].to_numpy()\n",
    "\n",
    "X_train, X_test, y_train, y_test = train_test_split(np.dot(X, P), y, test_size=0.3, random_state=12345)\n",
    "\n",
    "lr = MyLinearRegression()\n",
    "\n",
    "lr.fit(X_train, y_train)\n",
    "print(lr.weights)\n",
    "\n",
    "y_test_pred = lr.predict(X_test)\n",
    "eval_regressor(y_test, y_test_pred)"
   ]
  },
  {
   "cell_type": "markdown",
   "metadata": {},
   "source": [
    "# Conclusions"
   ]
  },
  {
   "cell_type": "markdown",
   "metadata": {},
   "source": [
    "1) The results show that even after obfuscating the data, the RMSE and R2 score from the Linear Regression model\n",
    "are identical; this is independent of whether the data is scaled or not."
   ]
  },
  {
   "cell_type": "markdown",
   "metadata": {},
   "source": [
    "**Summary**\n",
    "\n",
    "1) We used KNearestNeighbhors to find the a customer close to a given customer; the solution was improved with scaling\n",
    "the data, and using the Euclidean metric to improve the predictions.\n",
    "\n",
    "2) We have also built models to help the marketing team predict whether a customer will likely recieve insurance benefits or not. And, the resulting model with scaled data, performed very well compared to a dummy model. The resulting model produced had an F1 score of 92% on the validation set.\n",
    "\n",
    "3) We have also built a LinearRegression model on both scaled and unscaled data, to predict the number of insurance benefits a new customer would receive; the model produced a moderately high R2 score 66%. What we have observed is that scaling didn't impact the results.\n",
    "\n",
    "4) We obfuscated the data, and showed analytically that there is no difference between the obfuscated data and the original data.\n",
    "\n",
    "5) We also proved this computationally, by building a LinearRegression model using the obfuscated data, and the resulting RMSE and R2 scores were identical to that obtained with modeling the original data."
   ]
  }
 ],
 "metadata": {
  "ExecuteTimeLog": [
   {
    "duration": 1134,
    "start_time": "2021-07-08T15:05:10.510Z"
   },
   {
    "duration": 1635,
    "start_time": "2021-07-08T15:05:16.609Z"
   },
   {
    "duration": 40,
    "start_time": "2021-07-08T15:05:27.369Z"
   },
   {
    "duration": 5,
    "start_time": "2021-07-08T15:05:29.944Z"
   },
   {
    "duration": 13,
    "start_time": "2021-07-08T15:05:34.680Z"
   },
   {
    "duration": 8,
    "start_time": "2021-07-08T15:05:47.230Z"
   },
   {
    "duration": 4,
    "start_time": "2021-07-08T15:09:50.199Z"
   },
   {
    "duration": 4,
    "start_time": "2021-07-08T15:10:39.949Z"
   },
   {
    "duration": 5,
    "start_time": "2021-07-08T15:10:52.640Z"
   },
   {
    "duration": 3,
    "start_time": "2021-07-08T15:10:57.465Z"
   },
   {
    "duration": 7,
    "start_time": "2021-07-08T15:11:08.664Z"
   },
   {
    "duration": 3,
    "start_time": "2021-07-08T15:11:17.049Z"
   },
   {
    "duration": 6,
    "start_time": "2021-07-08T15:13:12.784Z"
   },
   {
    "duration": 6,
    "start_time": "2021-07-08T15:13:14.269Z"
   },
   {
    "duration": 191,
    "start_time": "2021-07-08T15:13:31.520Z"
   },
   {
    "duration": 24,
    "start_time": "2021-07-08T15:13:34.949Z"
   },
   {
    "duration": 6,
    "start_time": "2021-07-08T15:17:51.994Z"
   },
   {
    "duration": 10,
    "start_time": "2021-07-08T15:18:18.599Z"
   },
   {
    "duration": 6,
    "start_time": "2021-07-08T15:19:23.849Z"
   },
   {
    "duration": 3,
    "start_time": "2021-07-08T15:19:30.210Z"
   },
   {
    "duration": 5257,
    "start_time": "2021-07-08T15:20:12.660Z"
   },
   {
    "duration": 7643,
    "start_time": "2021-07-08T15:21:15.969Z"
   },
   {
    "duration": 12,
    "start_time": "2021-07-08T15:22:13.309Z"
   },
   {
    "duration": 4,
    "start_time": "2021-07-08T15:36:43.176Z"
   },
   {
    "duration": 4,
    "start_time": "2021-07-08T15:39:40.810Z"
   },
   {
    "duration": 3,
    "start_time": "2021-07-08T15:50:53.134Z"
   },
   {
    "duration": 4,
    "start_time": "2021-07-08T15:51:30.465Z"
   },
   {
    "duration": 10,
    "start_time": "2021-07-08T15:52:15.225Z"
   },
   {
    "duration": 12,
    "start_time": "2021-07-08T15:52:16.354Z"
   },
   {
    "duration": 196,
    "start_time": "2021-07-08T15:57:19.695Z"
   },
   {
    "duration": 374,
    "start_time": "2021-07-08T15:57:31.154Z"
   },
   {
    "duration": 369,
    "start_time": "2021-07-08T15:57:46.780Z"
   },
   {
    "duration": 4,
    "start_time": "2021-07-08T15:58:25.490Z"
   },
   {
    "duration": 17,
    "start_time": "2021-07-08T15:58:35.465Z"
   },
   {
    "duration": 23,
    "start_time": "2021-07-08T15:58:46.039Z"
   },
   {
    "duration": 22,
    "start_time": "2021-07-08T15:58:58.525Z"
   },
   {
    "duration": 23,
    "start_time": "2021-07-08T15:59:18.079Z"
   },
   {
    "duration": 24,
    "start_time": "2021-07-08T15:59:22.775Z"
   },
   {
    "duration": 24,
    "start_time": "2021-07-08T15:59:30.120Z"
   },
   {
    "duration": 23,
    "start_time": "2021-07-08T15:59:49.645Z"
   },
   {
    "duration": 22,
    "start_time": "2021-07-08T15:59:53.360Z"
   },
   {
    "duration": 23,
    "start_time": "2021-07-08T15:59:58.850Z"
   },
   {
    "duration": 5,
    "start_time": "2021-07-08T16:03:53.215Z"
   },
   {
    "duration": 3,
    "start_time": "2021-07-08T16:04:18.845Z"
   },
   {
    "duration": 21,
    "start_time": "2021-07-08T16:05:01.515Z"
   },
   {
    "duration": 33,
    "start_time": "2021-07-08T16:05:19.554Z"
   },
   {
    "duration": 7,
    "start_time": "2021-07-08T16:05:47.245Z"
   },
   {
    "duration": 186,
    "start_time": "2021-07-08T16:06:12.845Z"
   },
   {
    "duration": 8,
    "start_time": "2021-07-08T16:06:15.690Z"
   },
   {
    "duration": 3,
    "start_time": "2021-07-08T16:08:46.540Z"
   },
   {
    "duration": 534,
    "start_time": "2021-07-08T16:09:03.426Z"
   },
   {
    "duration": 12,
    "start_time": "2021-07-08T16:10:02.594Z"
   },
   {
    "duration": 11,
    "start_time": "2021-07-08T16:10:09.789Z"
   },
   {
    "duration": 16,
    "start_time": "2021-07-08T16:10:19.325Z"
   },
   {
    "duration": 5,
    "start_time": "2021-07-08T16:10:20.434Z"
   },
   {
    "duration": 10,
    "start_time": "2021-07-08T16:10:21.164Z"
   },
   {
    "duration": 7,
    "start_time": "2021-07-08T16:10:27.445Z"
   },
   {
    "duration": 4,
    "start_time": "2021-07-08T16:10:28.109Z"
   },
   {
    "duration": 6,
    "start_time": "2021-07-08T16:10:28.594Z"
   },
   {
    "duration": 7,
    "start_time": "2021-07-08T16:10:28.880Z"
   },
   {
    "duration": 22,
    "start_time": "2021-07-08T16:10:29.149Z"
   },
   {
    "duration": 7,
    "start_time": "2021-07-08T16:10:29.734Z"
   },
   {
    "duration": 10,
    "start_time": "2021-07-08T16:10:30.150Z"
   },
   {
    "duration": 6,
    "start_time": "2021-07-08T16:10:34.584Z"
   },
   {
    "duration": 3,
    "start_time": "2021-07-08T16:10:43.095Z"
   },
   {
    "duration": 2,
    "start_time": "2021-07-08T16:10:50.360Z"
   },
   {
    "duration": 4,
    "start_time": "2021-07-08T16:10:50.780Z"
   },
   {
    "duration": 4,
    "start_time": "2021-07-08T16:12:20.610Z"
   },
   {
    "duration": 4,
    "start_time": "2021-07-08T16:12:27.444Z"
   },
   {
    "duration": 553,
    "start_time": "2021-07-08T16:12:36.889Z"
   },
   {
    "duration": 4,
    "start_time": "2021-07-08T16:12:48.200Z"
   },
   {
    "duration": 22,
    "start_time": "2021-07-08T16:12:54.965Z"
   },
   {
    "duration": 5,
    "start_time": "2021-07-08T16:13:24.450Z"
   },
   {
    "duration": 63,
    "start_time": "2021-07-08T16:13:50.614Z"
   },
   {
    "duration": 79,
    "start_time": "2021-07-08T16:13:55.174Z"
   },
   {
    "duration": 8,
    "start_time": "2021-07-08T16:14:05.670Z"
   },
   {
    "duration": 6,
    "start_time": "2021-07-08T16:15:17.894Z"
   },
   {
    "duration": 4,
    "start_time": "2021-07-08T16:17:42.975Z"
   },
   {
    "duration": 22,
    "start_time": "2021-07-08T16:17:46.479Z"
   },
   {
    "duration": 5,
    "start_time": "2021-07-08T16:21:41.140Z"
   },
   {
    "duration": 5,
    "start_time": "2021-07-08T16:21:51.704Z"
   },
   {
    "duration": 6,
    "start_time": "2021-07-08T16:22:01.744Z"
   },
   {
    "duration": 5,
    "start_time": "2021-07-08T16:22:17.405Z"
   },
   {
    "duration": 8,
    "start_time": "2021-07-08T16:22:52.309Z"
   },
   {
    "duration": 8,
    "start_time": "2021-07-08T16:23:32.100Z"
   },
   {
    "duration": 3,
    "start_time": "2021-07-08T16:26:30.980Z"
   },
   {
    "duration": 18,
    "start_time": "2021-07-08T16:26:33.699Z"
   },
   {
    "duration": 4,
    "start_time": "2021-07-08T16:26:42.135Z"
   },
   {
    "duration": 17,
    "start_time": "2021-07-08T16:26:57.965Z"
   },
   {
    "duration": 3,
    "start_time": "2021-07-08T16:27:26.154Z"
   },
   {
    "duration": 32,
    "start_time": "2021-07-08T16:27:28.045Z"
   },
   {
    "duration": 4,
    "start_time": "2021-07-08T17:17:23.222Z"
   },
   {
    "duration": 7,
    "start_time": "2021-07-08T17:17:35.291Z"
   },
   {
    "duration": 4,
    "start_time": "2021-07-08T17:17:53.922Z"
   },
   {
    "duration": 7,
    "start_time": "2021-07-08T17:17:54.377Z"
   },
   {
    "duration": 4,
    "start_time": "2021-07-08T17:18:05.962Z"
   },
   {
    "duration": 3,
    "start_time": "2021-07-08T17:21:28.317Z"
   },
   {
    "duration": 366,
    "start_time": "2021-07-08T17:52:38.269Z"
   },
   {
    "duration": 8359,
    "start_time": "2021-07-08T17:53:18.928Z"
   },
   {
    "duration": 4,
    "start_time": "2021-07-08T17:53:29.819Z"
   },
   {
    "duration": 359,
    "start_time": "2021-07-08T17:53:37.179Z"
   },
   {
    "duration": 2184,
    "start_time": "2021-07-08T17:58:08.257Z"
   },
   {
    "duration": 1328,
    "start_time": "2021-07-08T17:58:10.443Z"
   },
   {
    "duration": 18,
    "start_time": "2021-07-08T17:58:11.772Z"
   },
   {
    "duration": 14,
    "start_time": "2021-07-08T17:58:11.791Z"
   },
   {
    "duration": 22,
    "start_time": "2021-07-08T17:58:11.807Z"
   },
   {
    "duration": 15,
    "start_time": "2021-07-08T17:58:11.831Z"
   },
   {
    "duration": 14,
    "start_time": "2021-07-08T17:58:11.848Z"
   },
   {
    "duration": 20,
    "start_time": "2021-07-08T17:58:11.865Z"
   },
   {
    "duration": 24,
    "start_time": "2021-07-08T17:58:11.887Z"
   },
   {
    "duration": 34,
    "start_time": "2021-07-08T17:58:11.912Z"
   },
   {
    "duration": 6,
    "start_time": "2021-07-08T17:58:11.947Z"
   },
   {
    "duration": 24,
    "start_time": "2021-07-08T17:58:11.954Z"
   },
   {
    "duration": 17,
    "start_time": "2021-07-08T17:58:11.979Z"
   },
   {
    "duration": 18,
    "start_time": "2021-07-08T17:58:11.998Z"
   },
   {
    "duration": 7689,
    "start_time": "2021-07-08T17:58:12.018Z"
   },
   {
    "duration": 12,
    "start_time": "2021-07-08T17:58:19.709Z"
   },
   {
    "duration": 3,
    "start_time": "2021-07-08T17:58:19.723Z"
   },
   {
    "duration": 5,
    "start_time": "2021-07-08T17:58:19.727Z"
   },
   {
    "duration": 13,
    "start_time": "2021-07-08T17:58:19.734Z"
   },
   {
    "duration": 37,
    "start_time": "2021-07-08T17:58:19.749Z"
   },
   {
    "duration": 3,
    "start_time": "2021-07-08T17:58:19.788Z"
   },
   {
    "duration": 23,
    "start_time": "2021-07-08T17:58:19.792Z"
   },
   {
    "duration": 29,
    "start_time": "2021-07-08T17:58:19.818Z"
   },
   {
    "duration": 3,
    "start_time": "2021-07-08T17:58:19.849Z"
   },
   {
    "duration": 51,
    "start_time": "2021-07-08T17:58:19.853Z"
   },
   {
    "duration": 4,
    "start_time": "2021-07-08T17:58:19.905Z"
   },
   {
    "duration": 28,
    "start_time": "2021-07-08T17:58:19.910Z"
   },
   {
    "duration": 7,
    "start_time": "2021-07-08T17:58:19.939Z"
   },
   {
    "duration": 18,
    "start_time": "2021-07-08T17:58:19.947Z"
   },
   {
    "duration": 63,
    "start_time": "2021-07-08T17:58:25.869Z"
   },
   {
    "duration": 60,
    "start_time": "2021-07-08T18:18:08.733Z"
   },
   {
    "duration": 342,
    "start_time": "2021-07-08T18:18:11.902Z"
   },
   {
    "duration": 197,
    "start_time": "2021-07-08T18:43:53.213Z"
   },
   {
    "duration": 16,
    "start_time": "2021-07-08T18:53:07.325Z"
   },
   {
    "duration": 9,
    "start_time": "2021-07-08T18:58:33.574Z"
   },
   {
    "duration": 7,
    "start_time": "2021-07-08T18:59:31.143Z"
   },
   {
    "duration": 10,
    "start_time": "2021-07-08T18:59:41.062Z"
   },
   {
    "duration": 394,
    "start_time": "2021-07-08T19:00:14.953Z"
   },
   {
    "duration": 10,
    "start_time": "2021-07-08T19:00:49.420Z"
   },
   {
    "duration": 5,
    "start_time": "2021-07-08T19:01:08.958Z"
   },
   {
    "duration": 4,
    "start_time": "2021-07-08T19:01:21.221Z"
   },
   {
    "duration": 459,
    "start_time": "2021-07-08T19:04:49.929Z"
   },
   {
    "duration": 207,
    "start_time": "2021-07-08T19:05:00.129Z"
   },
   {
    "duration": 3,
    "start_time": "2021-07-08T19:20:46.244Z"
   },
   {
    "duration": 381,
    "start_time": "2021-07-08T19:22:09.668Z"
   },
   {
    "duration": 3,
    "start_time": "2021-07-08T19:22:17.974Z"
   },
   {
    "duration": 431,
    "start_time": "2021-07-08T19:22:18.449Z"
   },
   {
    "duration": 436,
    "start_time": "2021-07-08T19:22:52.584Z"
   },
   {
    "duration": 5,
    "start_time": "2021-07-08T19:26:03.113Z"
   },
   {
    "duration": 9,
    "start_time": "2021-07-08T19:26:19.844Z"
   },
   {
    "duration": 4,
    "start_time": "2021-07-08T19:26:30.258Z"
   },
   {
    "duration": 533,
    "start_time": "2021-07-08T19:26:34.474Z"
   },
   {
    "duration": 7,
    "start_time": "2021-07-09T08:16:52.156Z"
   },
   {
    "duration": 4,
    "start_time": "2021-07-09T08:16:53.512Z"
   },
   {
    "duration": 357,
    "start_time": "2021-07-09T08:17:44.746Z"
   },
   {
    "duration": 11312,
    "start_time": "2021-07-09T08:17:58.770Z"
   },
   {
    "duration": 2077,
    "start_time": "2021-07-09T08:18:10.085Z"
   },
   {
    "duration": 65,
    "start_time": "2021-07-09T08:18:12.165Z"
   },
   {
    "duration": 5,
    "start_time": "2021-07-09T08:18:12.233Z"
   },
   {
    "duration": 30,
    "start_time": "2021-07-09T08:18:12.241Z"
   },
   {
    "duration": 9,
    "start_time": "2021-07-09T08:18:12.274Z"
   },
   {
    "duration": 7,
    "start_time": "2021-07-09T08:18:12.285Z"
   },
   {
    "duration": 12,
    "start_time": "2021-07-09T08:18:12.294Z"
   },
   {
    "duration": 12,
    "start_time": "2021-07-09T08:18:12.310Z"
   },
   {
    "duration": 69,
    "start_time": "2021-07-09T08:18:12.325Z"
   },
   {
    "duration": 8,
    "start_time": "2021-07-09T08:18:12.397Z"
   },
   {
    "duration": 58,
    "start_time": "2021-07-09T08:18:12.408Z"
   },
   {
    "duration": 8,
    "start_time": "2021-07-09T08:18:12.468Z"
   },
   {
    "duration": 10,
    "start_time": "2021-07-09T08:18:12.479Z"
   },
   {
    "duration": 12151,
    "start_time": "2021-07-09T08:18:12.492Z"
   },
   {
    "duration": 27,
    "start_time": "2021-07-09T08:18:24.646Z"
   },
   {
    "duration": 4,
    "start_time": "2021-07-09T08:18:24.675Z"
   },
   {
    "duration": 14,
    "start_time": "2021-07-09T08:18:24.682Z"
   },
   {
    "duration": 15,
    "start_time": "2021-07-09T08:18:24.699Z"
   },
   {
    "duration": 45,
    "start_time": "2021-07-09T08:18:24.717Z"
   },
   {
    "duration": 5,
    "start_time": "2021-07-09T08:18:24.764Z"
   },
   {
    "duration": 10,
    "start_time": "2021-07-09T08:18:24.771Z"
   },
   {
    "duration": 34,
    "start_time": "2021-07-09T08:18:24.783Z"
   },
   {
    "duration": 4,
    "start_time": "2021-07-09T08:18:24.819Z"
   },
   {
    "duration": 93,
    "start_time": "2021-07-09T08:18:24.825Z"
   },
   {
    "duration": 5,
    "start_time": "2021-07-09T08:18:24.920Z"
   },
   {
    "duration": 32,
    "start_time": "2021-07-09T08:18:24.931Z"
   },
   {
    "duration": 5,
    "start_time": "2021-07-09T08:18:24.966Z"
   },
   {
    "duration": 6,
    "start_time": "2021-07-09T08:18:24.973Z"
   },
   {
    "duration": 130,
    "start_time": "2021-07-09T08:18:24.982Z"
   },
   {
    "duration": 13,
    "start_time": "2021-07-09T08:18:25.115Z"
   },
   {
    "duration": 5,
    "start_time": "2021-07-09T08:18:25.131Z"
   },
   {
    "duration": 4,
    "start_time": "2021-07-09T08:18:25.162Z"
   },
   {
    "duration": 923,
    "start_time": "2021-07-09T08:18:25.169Z"
   },
   {
    "duration": 5,
    "start_time": "2021-07-09T08:18:26.095Z"
   },
   {
    "duration": 20,
    "start_time": "2021-07-09T08:18:26.103Z"
   },
   {
    "duration": 6,
    "start_time": "2021-07-09T08:18:26.126Z"
   },
   {
    "duration": 1354,
    "start_time": "2021-07-09T08:18:26.134Z"
   },
   {
    "duration": 9,
    "start_time": "2021-07-09T08:18:27.491Z"
   },
   {
    "duration": 11,
    "start_time": "2021-07-09T08:18:27.502Z"
   },
   {
    "duration": 799,
    "start_time": "2021-07-09T08:18:32.090Z"
   },
   {
    "duration": 7,
    "start_time": "2021-07-09T08:19:06.953Z"
   },
   {
    "duration": 5,
    "start_time": "2021-07-09T08:19:07.247Z"
   },
   {
    "duration": 870,
    "start_time": "2021-07-09T08:19:08.496Z"
   },
   {
    "duration": 8,
    "start_time": "2021-07-09T08:19:53.753Z"
   },
   {
    "duration": 5,
    "start_time": "2021-07-09T08:19:54.226Z"
   },
   {
    "duration": 878,
    "start_time": "2021-07-09T08:19:54.596Z"
   },
   {
    "duration": 7,
    "start_time": "2021-07-09T08:21:59.723Z"
   },
   {
    "duration": 4,
    "start_time": "2021-07-09T08:22:00.078Z"
   },
   {
    "duration": 932,
    "start_time": "2021-07-09T08:22:00.391Z"
   },
   {
    "duration": 7,
    "start_time": "2021-07-09T08:27:21.911Z"
   },
   {
    "duration": 4,
    "start_time": "2021-07-09T08:27:22.631Z"
   },
   {
    "duration": 849,
    "start_time": "2021-07-09T08:27:23.116Z"
   },
   {
    "duration": 6,
    "start_time": "2021-07-09T08:27:52.950Z"
   },
   {
    "duration": 4,
    "start_time": "2021-07-09T08:27:53.778Z"
   },
   {
    "duration": 691,
    "start_time": "2021-07-09T08:27:54.758Z"
   },
   {
    "duration": 5,
    "start_time": "2021-07-09T08:28:17.447Z"
   },
   {
    "duration": 17,
    "start_time": "2021-07-09T08:28:24.277Z"
   },
   {
    "duration": 6,
    "start_time": "2021-07-09T08:28:33.912Z"
   },
   {
    "duration": 4,
    "start_time": "2021-07-09T08:28:45.911Z"
   },
   {
    "duration": 15,
    "start_time": "2021-07-09T08:28:46.640Z"
   },
   {
    "duration": 378,
    "start_time": "2021-07-09T08:29:28.729Z"
   },
   {
    "duration": 16,
    "start_time": "2021-07-09T08:29:34.511Z"
   },
   {
    "duration": 6,
    "start_time": "2021-07-09T08:33:52.128Z"
   },
   {
    "duration": 4,
    "start_time": "2021-07-09T08:33:52.945Z"
   },
   {
    "duration": 5,
    "start_time": "2021-07-09T08:34:13.759Z"
   },
   {
    "duration": 6,
    "start_time": "2021-07-09T08:34:30.631Z"
   },
   {
    "duration": 9,
    "start_time": "2021-07-09T08:35:33.479Z"
   },
   {
    "duration": 9,
    "start_time": "2021-07-09T08:41:27.553Z"
   },
   {
    "duration": 7,
    "start_time": "2021-07-09T08:42:20.846Z"
   },
   {
    "duration": 536,
    "start_time": "2021-07-09T08:42:41.572Z"
   },
   {
    "duration": 639,
    "start_time": "2021-07-09T08:42:52.668Z"
   },
   {
    "duration": 7,
    "start_time": "2021-07-09T08:44:08.045Z"
   },
   {
    "duration": 375,
    "start_time": "2021-07-09T08:45:43.396Z"
   },
   {
    "duration": 8,
    "start_time": "2021-07-09T08:45:48.695Z"
   },
   {
    "duration": 9,
    "start_time": "2021-07-09T10:12:01.657Z"
   },
   {
    "duration": 18,
    "start_time": "2021-07-09T10:12:20.451Z"
   },
   {
    "duration": 15,
    "start_time": "2021-07-09T10:12:48.665Z"
   },
   {
    "duration": 331,
    "start_time": "2021-07-09T10:15:26.707Z"
   },
   {
    "duration": 11,
    "start_time": "2021-07-09T10:15:53.825Z"
   },
   {
    "duration": 12,
    "start_time": "2021-07-09T10:16:22.959Z"
   },
   {
    "duration": 7,
    "start_time": "2021-07-09T10:16:54.667Z"
   },
   {
    "duration": 19,
    "start_time": "2021-07-09T10:19:10.655Z"
   },
   {
    "duration": 5,
    "start_time": "2021-07-09T12:56:52.681Z"
   },
   {
    "duration": 6,
    "start_time": "2021-07-09T12:57:02.441Z"
   },
   {
    "duration": 6,
    "start_time": "2021-07-09T12:57:12.040Z"
   },
   {
    "duration": 6,
    "start_time": "2021-07-09T12:57:16.345Z"
   },
   {
    "duration": 5,
    "start_time": "2021-07-09T12:57:25.463Z"
   },
   {
    "duration": 4,
    "start_time": "2021-07-09T12:57:48.376Z"
   },
   {
    "duration": 3,
    "start_time": "2021-07-09T12:57:56.006Z"
   },
   {
    "duration": 5,
    "start_time": "2021-07-09T12:59:54.253Z"
   },
   {
    "duration": 7,
    "start_time": "2021-07-09T13:00:07.959Z"
   },
   {
    "duration": 16,
    "start_time": "2021-07-09T13:00:48.919Z"
   },
   {
    "duration": 13,
    "start_time": "2021-07-09T13:04:17.013Z"
   },
   {
    "duration": 173,
    "start_time": "2021-07-09T13:04:30.581Z"
   },
   {
    "duration": 113374,
    "start_time": "2021-07-09T22:24:59.499Z"
   },
   {
    "duration": 102354,
    "start_time": "2021-07-09T22:26:52.876Z"
   },
   {
    "duration": 72,
    "start_time": "2021-07-09T22:28:35.233Z"
   },
   {
    "duration": 5,
    "start_time": "2021-07-09T22:28:35.308Z"
   },
   {
    "duration": 19,
    "start_time": "2021-07-09T22:28:35.315Z"
   },
   {
    "duration": 8,
    "start_time": "2021-07-09T22:28:35.337Z"
   },
   {
    "duration": 8,
    "start_time": "2021-07-09T22:28:35.347Z"
   },
   {
    "duration": 11,
    "start_time": "2021-07-09T22:28:35.359Z"
   },
   {
    "duration": 9,
    "start_time": "2021-07-09T22:28:35.373Z"
   },
   {
    "duration": 39,
    "start_time": "2021-07-09T22:28:35.384Z"
   },
   {
    "duration": 8,
    "start_time": "2021-07-09T22:28:35.426Z"
   },
   {
    "duration": 17,
    "start_time": "2021-07-09T22:28:35.436Z"
   },
   {
    "duration": 49,
    "start_time": "2021-07-09T22:28:35.456Z"
   },
   {
    "duration": 6,
    "start_time": "2021-07-09T22:28:35.508Z"
   },
   {
    "duration": 12813,
    "start_time": "2021-07-09T22:28:35.517Z"
   },
   {
    "duration": 72,
    "start_time": "2021-07-09T22:28:48.332Z"
   },
   {
    "duration": 4,
    "start_time": "2021-07-09T22:28:48.406Z"
   },
   {
    "duration": 10,
    "start_time": "2021-07-09T22:28:48.412Z"
   },
   {
    "duration": 17,
    "start_time": "2021-07-09T22:28:48.424Z"
   },
   {
    "duration": 71,
    "start_time": "2021-07-09T22:28:48.443Z"
   },
   {
    "duration": 4,
    "start_time": "2021-07-09T22:28:48.516Z"
   },
   {
    "duration": 10,
    "start_time": "2021-07-09T22:28:48.523Z"
   },
   {
    "duration": 86,
    "start_time": "2021-07-09T22:28:48.539Z"
   },
   {
    "duration": 5,
    "start_time": "2021-07-09T22:28:48.629Z"
   },
   {
    "duration": 88,
    "start_time": "2021-07-09T22:28:48.637Z"
   },
   {
    "duration": 5,
    "start_time": "2021-07-09T22:28:48.728Z"
   },
   {
    "duration": 11,
    "start_time": "2021-07-09T22:28:48.735Z"
   },
   {
    "duration": 5,
    "start_time": "2021-07-09T22:28:48.749Z"
   },
   {
    "duration": 10,
    "start_time": "2021-07-09T22:28:48.756Z"
   },
   {
    "duration": 97,
    "start_time": "2021-07-09T22:28:48.769Z"
   },
   {
    "duration": 13,
    "start_time": "2021-07-09T22:28:48.868Z"
   },
   {
    "duration": 6,
    "start_time": "2021-07-09T22:28:48.883Z"
   },
   {
    "duration": 10,
    "start_time": "2021-07-09T22:28:48.892Z"
   },
   {
    "duration": 1028,
    "start_time": "2021-07-09T22:28:48.904Z"
   },
   {
    "duration": 5,
    "start_time": "2021-07-09T22:28:49.934Z"
   },
   {
    "duration": 62,
    "start_time": "2021-07-09T22:28:49.942Z"
   },
   {
    "duration": 6,
    "start_time": "2021-07-09T22:28:50.007Z"
   },
   {
    "duration": 933,
    "start_time": "2021-07-09T22:28:50.015Z"
   },
   {
    "duration": 6,
    "start_time": "2021-07-09T22:28:50.950Z"
   },
   {
    "duration": 17,
    "start_time": "2021-07-09T22:28:50.958Z"
   },
   {
    "duration": 24,
    "start_time": "2021-07-09T22:28:50.977Z"
   },
   {
    "duration": 14,
    "start_time": "2021-07-09T22:28:51.005Z"
   },
   {
    "duration": 13,
    "start_time": "2021-07-09T22:28:51.102Z"
   },
   {
    "duration": 83,
    "start_time": "2021-07-09T22:28:51.118Z"
   },
   {
    "duration": 4,
    "start_time": "2021-07-09T22:28:51.203Z"
   },
   {
    "duration": 17,
    "start_time": "2021-07-09T22:28:51.210Z"
   },
   {
    "duration": 13,
    "start_time": "2021-07-09T22:28:51.229Z"
   },
   {
    "duration": 8,
    "start_time": "2021-07-09T22:28:51.302Z"
   },
   {
    "duration": 92,
    "start_time": "2021-07-09T22:28:51.313Z"
   },
   {
    "duration": 98,
    "start_time": "2021-07-09T22:28:51.408Z"
   },
   {
    "duration": 16,
    "start_time": "2021-07-09T22:28:51.508Z"
   },
   {
    "duration": 79,
    "start_time": "2021-07-09T22:28:51.527Z"
   },
   {
    "duration": 6,
    "start_time": "2021-07-09T22:28:51.609Z"
   },
   {
    "duration": 83,
    "start_time": "2021-07-09T22:28:51.618Z"
   },
   {
    "duration": 4,
    "start_time": "2021-07-09T22:28:51.703Z"
   },
   {
    "duration": 8,
    "start_time": "2021-07-09T22:28:51.710Z"
   },
   {
    "duration": 15,
    "start_time": "2021-07-09T22:28:51.721Z"
   },
   {
    "duration": 101,
    "start_time": "2021-07-09T22:28:51.803Z"
   },
   {
    "duration": 108100,
    "start_time": "2021-07-10T10:37:59.747Z"
   },
   {
    "duration": 98191,
    "start_time": "2021-07-10T10:39:47.850Z"
   },
   {
    "duration": 19,
    "start_time": "2021-07-10T10:41:26.044Z"
   },
   {
    "duration": 11,
    "start_time": "2021-07-10T10:41:26.066Z"
   },
   {
    "duration": 23,
    "start_time": "2021-07-10T10:41:26.079Z"
   },
   {
    "duration": 11,
    "start_time": "2021-07-10T10:41:26.105Z"
   },
   {
    "duration": 9,
    "start_time": "2021-07-10T10:41:26.119Z"
   },
   {
    "duration": 18,
    "start_time": "2021-07-10T10:41:26.132Z"
   },
   {
    "duration": 27,
    "start_time": "2021-07-10T10:41:26.153Z"
   },
   {
    "duration": 39,
    "start_time": "2021-07-10T10:41:26.182Z"
   },
   {
    "duration": 7,
    "start_time": "2021-07-10T10:41:26.224Z"
   },
   {
    "duration": 29,
    "start_time": "2021-07-10T10:41:26.234Z"
   },
   {
    "duration": 7,
    "start_time": "2021-07-10T10:41:26.265Z"
   },
   {
    "duration": 9,
    "start_time": "2021-07-10T10:41:26.275Z"
   },
   {
    "duration": 12757,
    "start_time": "2021-07-10T10:41:26.287Z"
   },
   {
    "duration": 16,
    "start_time": "2021-07-10T10:41:39.046Z"
   },
   {
    "duration": 4,
    "start_time": "2021-07-10T10:41:39.066Z"
   },
   {
    "duration": 31,
    "start_time": "2021-07-10T10:41:39.073Z"
   },
   {
    "duration": 27,
    "start_time": "2021-07-10T10:41:39.106Z"
   },
   {
    "duration": 14,
    "start_time": "2021-07-10T10:41:39.136Z"
   },
   {
    "duration": 4,
    "start_time": "2021-07-10T10:41:39.153Z"
   },
   {
    "duration": 12,
    "start_time": "2021-07-10T10:41:39.159Z"
   },
   {
    "duration": 34,
    "start_time": "2021-07-10T10:41:39.203Z"
   },
   {
    "duration": 4,
    "start_time": "2021-07-10T10:41:39.241Z"
   },
   {
    "duration": 93,
    "start_time": "2021-07-10T10:41:39.247Z"
   },
   {
    "duration": 6,
    "start_time": "2021-07-10T10:41:39.343Z"
   },
   {
    "duration": 17,
    "start_time": "2021-07-10T10:41:39.351Z"
   },
   {
    "duration": 29,
    "start_time": "2021-07-10T10:41:39.371Z"
   },
   {
    "duration": 6,
    "start_time": "2021-07-10T10:41:39.404Z"
   },
   {
    "duration": 112,
    "start_time": "2021-07-10T10:41:39.413Z"
   },
   {
    "duration": 14,
    "start_time": "2021-07-10T10:41:39.528Z"
   },
   {
    "duration": 6,
    "start_time": "2021-07-10T10:41:39.545Z"
   },
   {
    "duration": 8,
    "start_time": "2021-07-10T10:41:39.553Z"
   },
   {
    "duration": 826,
    "start_time": "2021-07-10T10:41:39.564Z"
   },
   {
    "duration": 5,
    "start_time": "2021-07-10T10:41:40.401Z"
   },
   {
    "duration": 18,
    "start_time": "2021-07-10T10:41:40.409Z"
   },
   {
    "duration": 6,
    "start_time": "2021-07-10T10:41:40.429Z"
   },
   {
    "duration": 1330,
    "start_time": "2021-07-10T10:41:40.438Z"
   },
   {
    "duration": 6,
    "start_time": "2021-07-10T10:41:41.770Z"
   },
   {
    "duration": 28,
    "start_time": "2021-07-10T10:41:41.778Z"
   },
   {
    "duration": 17,
    "start_time": "2021-07-10T10:41:41.809Z"
   },
   {
    "duration": 172,
    "start_time": "2021-07-10T10:41:41.830Z"
   },
   {
    "duration": 95,
    "start_time": "2021-07-10T10:41:42.006Z"
   },
   {
    "duration": 4,
    "start_time": "2021-07-10T10:41:42.104Z"
   },
   {
    "duration": 9,
    "start_time": "2021-07-10T10:41:42.111Z"
   },
   {
    "duration": 10,
    "start_time": "2021-07-10T10:41:42.123Z"
   },
   {
    "duration": 70,
    "start_time": "2021-07-10T10:41:42.136Z"
   },
   {
    "duration": 93,
    "start_time": "2021-07-10T10:41:42.210Z"
   },
   {
    "duration": 96,
    "start_time": "2021-07-10T10:41:42.307Z"
   },
   {
    "duration": 11,
    "start_time": "2021-07-10T10:41:42.405Z"
   },
   {
    "duration": 95,
    "start_time": "2021-07-10T10:41:42.419Z"
   },
   {
    "duration": 25,
    "start_time": "2021-07-10T10:41:42.517Z"
   },
   {
    "duration": 6,
    "start_time": "2021-07-10T10:41:42.601Z"
   },
   {
    "duration": 91,
    "start_time": "2021-07-10T10:41:42.610Z"
   },
   {
    "duration": 7,
    "start_time": "2021-07-10T10:41:42.703Z"
   },
   {
    "duration": 10,
    "start_time": "2021-07-10T10:41:42.712Z"
   },
   {
    "duration": 86,
    "start_time": "2021-07-10T10:41:42.725Z"
   },
   {
    "duration": 93,
    "start_time": "2021-07-10T10:41:42.819Z"
   },
   {
    "duration": 317,
    "start_time": "2021-07-10T21:26:57.549Z"
   },
   {
    "duration": 10867,
    "start_time": "2021-07-10T21:27:05.553Z"
   },
   {
    "duration": 2161,
    "start_time": "2021-07-10T21:27:16.424Z"
   },
   {
    "duration": 20,
    "start_time": "2021-07-10T21:27:18.588Z"
   },
   {
    "duration": 12,
    "start_time": "2021-07-10T21:27:18.611Z"
   },
   {
    "duration": 30,
    "start_time": "2021-07-10T21:27:18.625Z"
   },
   {
    "duration": 17,
    "start_time": "2021-07-10T21:27:18.657Z"
   },
   {
    "duration": 6,
    "start_time": "2021-07-10T21:27:18.677Z"
   },
   {
    "duration": 19,
    "start_time": "2021-07-10T21:27:18.686Z"
   },
   {
    "duration": 8,
    "start_time": "2021-07-10T21:27:18.710Z"
   },
   {
    "duration": 34,
    "start_time": "2021-07-10T21:27:18.721Z"
   },
   {
    "duration": 8,
    "start_time": "2021-07-10T21:27:18.757Z"
   },
   {
    "duration": 8,
    "start_time": "2021-07-10T21:27:18.801Z"
   },
   {
    "duration": 9,
    "start_time": "2021-07-10T21:27:24.999Z"
   },
   {
    "duration": 145395,
    "start_time": "2021-07-11T19:08:02.615Z"
   },
   {
    "duration": 123167,
    "start_time": "2021-07-11T19:10:28.014Z"
   },
   {
    "duration": 150,
    "start_time": "2021-07-11T19:12:31.184Z"
   },
   {
    "duration": 5,
    "start_time": "2021-07-11T19:12:31.337Z"
   },
   {
    "duration": 27,
    "start_time": "2021-07-11T19:12:31.344Z"
   },
   {
    "duration": 14,
    "start_time": "2021-07-11T19:12:31.374Z"
   },
   {
    "duration": 14,
    "start_time": "2021-07-11T19:12:31.390Z"
   },
   {
    "duration": 24,
    "start_time": "2021-07-11T19:12:31.407Z"
   },
   {
    "duration": 21,
    "start_time": "2021-07-11T19:12:31.434Z"
   },
   {
    "duration": 32,
    "start_time": "2021-07-11T19:12:31.457Z"
   },
   {
    "duration": 60,
    "start_time": "2021-07-11T19:12:31.492Z"
   },
   {
    "duration": 30,
    "start_time": "2021-07-11T19:12:31.554Z"
   },
   {
    "duration": 29,
    "start_time": "2021-07-11T19:12:31.586Z"
   },
   {
    "duration": 22,
    "start_time": "2021-07-11T19:12:31.617Z"
   },
   {
    "duration": 13,
    "start_time": "2021-07-11T19:12:31.642Z"
   },
   {
    "duration": 11662,
    "start_time": "2021-07-11T19:12:31.657Z"
   },
   {
    "duration": 14,
    "start_time": "2021-07-11T19:12:43.322Z"
   },
   {
    "duration": 5,
    "start_time": "2021-07-11T19:12:43.339Z"
   },
   {
    "duration": 7,
    "start_time": "2021-07-11T19:12:43.346Z"
   },
   {
    "duration": 15,
    "start_time": "2021-07-11T19:12:43.385Z"
   },
   {
    "duration": 12,
    "start_time": "2021-07-11T19:12:43.403Z"
   },
   {
    "duration": 4,
    "start_time": "2021-07-11T19:12:43.418Z"
   },
   {
    "duration": 4,
    "start_time": "2021-07-11T19:12:43.428Z"
   },
   {
    "duration": 62,
    "start_time": "2021-07-11T19:12:43.435Z"
   },
   {
    "duration": 4,
    "start_time": "2021-07-11T19:12:43.500Z"
   },
   {
    "duration": 79,
    "start_time": "2021-07-11T19:12:43.506Z"
   },
   {
    "duration": 6,
    "start_time": "2021-07-11T19:12:43.588Z"
   },
   {
    "duration": 13,
    "start_time": "2021-07-11T19:12:43.596Z"
   },
   {
    "duration": 9,
    "start_time": "2021-07-11T19:12:43.611Z"
   },
   {
    "duration": 10,
    "start_time": "2021-07-11T19:12:43.623Z"
   },
   {
    "duration": 118,
    "start_time": "2021-07-11T19:12:43.635Z"
   },
   {
    "duration": 12,
    "start_time": "2021-07-11T19:12:43.756Z"
   },
   {
    "duration": 6,
    "start_time": "2021-07-11T19:12:43.786Z"
   },
   {
    "duration": 7,
    "start_time": "2021-07-11T19:12:43.794Z"
   },
   {
    "duration": 923,
    "start_time": "2021-07-11T19:12:43.804Z"
   },
   {
    "duration": 6,
    "start_time": "2021-07-11T19:12:44.729Z"
   },
   {
    "duration": 48,
    "start_time": "2021-07-11T19:12:44.738Z"
   },
   {
    "duration": 7,
    "start_time": "2021-07-11T19:12:44.788Z"
   },
   {
    "duration": 911,
    "start_time": "2021-07-11T19:12:44.798Z"
   },
   {
    "duration": 7,
    "start_time": "2021-07-11T19:12:45.711Z"
   },
   {
    "duration": 10,
    "start_time": "2021-07-11T19:12:45.721Z"
   },
   {
    "duration": 53,
    "start_time": "2021-07-11T19:12:45.733Z"
   },
   {
    "duration": 106,
    "start_time": "2021-07-11T19:12:45.790Z"
   },
   {
    "duration": 88,
    "start_time": "2021-07-11T19:12:45.900Z"
   },
   {
    "duration": 7,
    "start_time": "2021-07-11T19:12:45.993Z"
   },
   {
    "duration": 86,
    "start_time": "2021-07-11T19:12:46.003Z"
   },
   {
    "duration": 14,
    "start_time": "2021-07-11T19:12:46.091Z"
   },
   {
    "duration": 79,
    "start_time": "2021-07-11T19:12:46.108Z"
   },
   {
    "duration": 10,
    "start_time": "2021-07-11T19:12:46.190Z"
   },
   {
    "duration": 184,
    "start_time": "2021-07-11T19:12:46.202Z"
   },
   {
    "duration": 96,
    "start_time": "2021-07-11T19:12:46.390Z"
   },
   {
    "duration": 13,
    "start_time": "2021-07-11T19:12:46.488Z"
   },
   {
    "duration": 80,
    "start_time": "2021-07-11T19:12:46.504Z"
   },
   {
    "duration": 5,
    "start_time": "2021-07-11T19:12:46.587Z"
   },
   {
    "duration": 14,
    "start_time": "2021-07-11T19:12:46.594Z"
   },
   {
    "duration": 4,
    "start_time": "2021-07-11T19:12:46.687Z"
   },
   {
    "duration": 12,
    "start_time": "2021-07-11T19:12:46.694Z"
   },
   {
    "duration": 92,
    "start_time": "2021-07-11T19:12:46.710Z"
   },
   {
    "duration": 19,
    "start_time": "2021-07-11T19:12:46.886Z"
   }
  ],
  "kernelspec": {
   "display_name": "Python 3 (ipykernel)",
   "language": "python",
   "name": "python3"
  },
  "language_info": {
   "codemirror_mode": {
    "name": "ipython",
    "version": 3
   },
   "file_extension": ".py",
   "mimetype": "text/x-python",
   "name": "python",
   "nbconvert_exporter": "python",
   "pygments_lexer": "ipython3",
   "version": "3.10.9"
  },
  "toc": {
   "base_numbering": 1,
   "nav_menu": {},
   "number_sections": true,
   "sideBar": true,
   "skip_h1_title": true,
   "title_cell": "Table of Contents",
   "title_sidebar": "Contents",
   "toc_cell": false,
   "toc_position": {},
   "toc_section_display": true,
   "toc_window_display": false
  }
 },
 "nbformat": 4,
 "nbformat_minor": 4
}
